{
 "cells": [
  {
   "cell_type": "code",
   "execution_count": 1,
   "id": "d7bd7a4f-cf59-4aee-915b-72fd9cf74a89",
   "metadata": {},
   "outputs": [
    {
     "name": "stdout",
     "output_type": "stream",
     "text": [
      "{1: 5, 2: 2, 3: 2, 4: 2}\n"
     ]
    }
   ],
   "source": [
    "#1 Find repeated elements in a tuple.\n",
    "\n",
    "t=(1,1,2,3,1,3,4,4,2,1,1)\n",
    "checked={}\n",
    "\n",
    "for item in t:\n",
    "    if item not in checked:\n",
    "        checked[item] =1\n",
    "    else:\n",
    "        checked[item] +=1\n",
    "print(checked)"
   ]
  },
  {
   "cell_type": "code",
   "execution_count": 2,
   "id": "b2ed9624-2c6c-48cb-b767-99078fe330f8",
   "metadata": {},
   "outputs": [
    {
     "name": "stdout",
     "output_type": "stream",
     "text": [
      "{'a': 1, 'b': 2, 'c': 3, 'd': 4}\n"
     ]
    }
   ],
   "source": [
    "#2 Convert list of tuples into dictionary\n",
    "\n",
    "l=[(\"a\",1),(\"b\",2),(\"c\",3),(\"d\",4)]\n",
    "\n",
    "print(dict(l))\n"
   ]
  },
  {
   "cell_type": "code",
   "execution_count": 4,
   "id": "67287290-2fc7-4f7a-a0e8-e77ab2d6a5d3",
   "metadata": {},
   "outputs": [
    {
     "name": "stdout",
     "output_type": "stream",
     "text": [
      "Before swap tuple 1:(1, 2, 3) and tuple 2:('a', 'b', 'c')\n",
      "After swapping\n",
      "\n",
      "Before swap tuple 1:('a', 'b', 'c') and tuple 2:(1, 2, 3)\n"
     ]
    }
   ],
   "source": [
    "#3 swap two tuples\n",
    "\n",
    "tuple1 = (1, 2, 3)\n",
    "tuple2 = ('a', 'b', 'c')\n",
    "\n",
    "print(f\"Before swap tuple 1:{tuple1} and tuple 2:{tuple2}\")\n",
    "print(\"After swapping\")\n",
    "print(f\"\\nBefore swap tuple 1:{tuple2} and tuple 2:{tuple1}\")"
   ]
  },
  {
   "cell_type": "code",
   "execution_count": 6,
   "id": "eb872b5e-2f58-44e0-a3be-0395397469a3",
   "metadata": {},
   "outputs": [
    {
     "name": "stdout",
     "output_type": "stream",
     "text": [
      "[1, 1, 1, 2, 2, 3, 3, 3, 4, 4, 5, 6, 12, 23, 31, 34]\n"
     ]
    }
   ],
   "source": [
    "#4 Sort tuple of numbers.\n",
    "s=(1,2,3,4,1,2,3,31,34,12,3,1,23,4,5,6)\n",
    "\n",
    "print(sorted(s))"
   ]
  },
  {
   "cell_type": "code",
   "execution_count": null,
   "id": "0cd954e4-350f-4f42-aa8e-e0fd782f3351",
   "metadata": {},
   "outputs": [],
   "source": [
    "#5 Write program to find sum of tuple elements.\n",
    "\n"
   ]
  }
 ],
 "metadata": {
  "kernelspec": {
   "display_name": "Python 3 (ipykernel)",
   "language": "python",
   "name": "python3"
  },
  "language_info": {
   "codemirror_mode": {
    "name": "ipython",
    "version": 3
   },
   "file_extension": ".py",
   "mimetype": "text/x-python",
   "name": "python",
   "nbconvert_exporter": "python",
   "pygments_lexer": "ipython3",
   "version": "3.13.5"
  }
 },
 "nbformat": 4,
 "nbformat_minor": 5
}
