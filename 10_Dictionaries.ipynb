{
 "cells": [
  {
   "cell_type": "code",
   "execution_count": 6,
   "id": "0eadd1d3-d55e-4a92-8fbe-41eadf520977",
   "metadata": {},
   "outputs": [
    {
     "name": "stdout",
     "output_type": "stream",
     "text": [
      "{'I': 1, ' ': 5, 'l': 1, 'o': 2, 'v': 1, 'e': 3, 'p': 1, 'y': 1, 't': 2, 'h': 1, 'n': 3, 'a': 3, 'd': 2, 's': 1, 'c': 2, 'i': 1}\n"
     ]
    }
   ],
   "source": [
    "#1 Count word frequency in a sentence.\n",
    "\n",
    "a=\"I love python and data science\"\n",
    "count={}\n",
    "\n",
    "for char in a:\n",
    "    if char not in count:\n",
    "        count[char] =1\n",
    "    else:\n",
    "        count[char] += 1\n",
    "\n",
    "print(count)"
   ]
  },
  {
   "cell_type": "code",
   "execution_count": 7,
   "id": "5703d871-d116-46ba-be14-f6005ae69ada",
   "metadata": {},
   "outputs": [
    {
     "name": "stdout",
     "output_type": "stream",
     "text": [
      "b\n"
     ]
    }
   ],
   "source": [
    "#2 Find key with max value.\n",
    "\n",
    "my_dict = {'a': 100, 'b': 300, 'c': 200}\n",
    "\n",
    "max_value_key=max(my_dict,key=my_dict.get)\n",
    "print(max_value_key)"
   ]
  },
  {
   "cell_type": "code",
   "execution_count": 12,
   "id": "3a05995a-964b-4805-8ab1-0bf8abcc6854",
   "metadata": {},
   "outputs": [
    {
     "name": "stdout",
     "output_type": "stream",
     "text": [
      "{'a': 1, 'b': 2, 'c': 99, 'd': 4}\n"
     ]
    }
   ],
   "source": [
    "#3 Merge two dictionaries.\n",
    "dict1 = {'a': 1, 'b': 2, 'c': 3}\n",
    "dict2 = {'c': 99, 'd': 4}\n",
    "\n",
    "print(dict1 | dict2)"
   ]
  },
  {
   "cell_type": "code",
   "execution_count": 13,
   "id": "b69ed6a9-b5cc-4e35-b00f-886f755a6657",
   "metadata": {},
   "outputs": [
    {
     "name": "stdout",
     "output_type": "stream",
     "text": [
      "{1: 2, 3: 4, 5: 6, 7: 8}\n"
     ]
    }
   ],
   "source": [
    "#4 Create dictionary from two lists.\n",
    "\n",
    "l1=[(1,2),(3,4),(5,6),(7,8)]\n",
    "l2=[(3,4),(5,6)]\n",
    "\n",
    "print(dict(l1 + l2))"
   ]
  },
  {
   "cell_type": "code",
   "execution_count": 20,
   "id": "8e4818f1-29c4-432d-ba49-c423365fc995",
   "metadata": {},
   "outputs": [
    {
     "name": "stdout",
     "output_type": "stream",
     "text": [
      "{2: 1, 4: 3, 6: 5, 8: 7}\n"
     ]
    }
   ],
   "source": [
    "#5 Invert a dictionary (keys→values).\n",
    "dict1={1: 2, 3: 4, 5: 6, 7: 8}\n",
    "\n",
    "inverted_dict={value:key for key,value in dict1.items()}\n",
    "print(inverted_dict)"
   ]
  },
  {
   "cell_type": "code",
   "execution_count": 28,
   "id": "58a4734c-eea4-4069-9bcd-b956b459d5eb",
   "metadata": {},
   "outputs": [
    {
     "name": "stdout",
     "output_type": "stream",
     "text": [
      "dictionary is nor empty\n"
     ]
    }
   ],
   "source": [
    "#6 Check if dictionary is empty.\n",
    "\n",
    "d={1:3}\n",
    "\n",
    "if not d:\n",
    "    print(\"Dictionary is empty\")\n",
    "else:\n",
    "    print(\"dictionary is nor empty\")"
   ]
  },
  {
   "cell_type": "code",
   "execution_count": 31,
   "id": "eda1c032-6a2e-4211-8411-d0f0abd0338c",
   "metadata": {},
   "outputs": [
    {
     "name": "stdout",
     "output_type": "stream",
     "text": [
      "{'a': 1, 'c': 3}\n"
     ]
    }
   ],
   "source": [
    "#7 Remove key if value is None.\n",
    "\n",
    "my_dict = {'a': 1, 'b': None, 'c': 3, 'd': None}\n",
    "\n",
    "filtered_key={key:value for key,value in my_dict.items() if value is not None}\n",
    "print(filtered_key)"
   ]
  },
  {
   "cell_type": "code",
   "execution_count": 39,
   "id": "adb9c4ff-6371-4faf-a95a-41fadf1018c7",
   "metadata": {},
   "outputs": [
    {
     "name": "stdout",
     "output_type": "stream",
     "text": [
      "john\n"
     ]
    }
   ],
   "source": [
    "#8Create nested dictionary (student info).\n",
    "\n",
    "info={\n",
    "    \"student\":{\n",
    "        \"name\":\"john\",\n",
    "        \"age\": 18\n",
    "    }\n",
    "}\n",
    "print(info[\"student\"][\"name\"])"
   ]
  },
  {
   "cell_type": "code",
   "execution_count": null,
   "id": "c8afaa7b-bd09-409e-a1d5-4bbd3b6d3462",
   "metadata": {},
   "outputs": [],
   "source": [
    "#9 Build contact book using dictionary.\n",
    "\n",
    "contact={\n",
    "    \"info\":{\n",
    "        \n",
    "        "
   ]
  }
 ],
 "metadata": {
  "kernelspec": {
   "display_name": "Python 3 (ipykernel)",
   "language": "python",
   "name": "python3"
  },
  "language_info": {
   "codemirror_mode": {
    "name": "ipython",
    "version": 3
   },
   "file_extension": ".py",
   "mimetype": "text/x-python",
   "name": "python",
   "nbconvert_exporter": "python",
   "pygments_lexer": "ipython3",
   "version": "3.13.5"
  }
 },
 "nbformat": 4,
 "nbformat_minor": 5
}
