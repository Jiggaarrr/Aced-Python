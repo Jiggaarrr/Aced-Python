{
 "cells": [
  {
   "cell_type": "code",
   "execution_count": 1,
   "id": "d0d962d0-c286-4a86-85f9-3b40de9a3b40",
   "metadata": {},
   "outputs": [
    {
     "name": "stdin",
     "output_type": "stream",
     "text": [
      "Enter a num: 7\n"
     ]
    },
    {
     "data": {
      "text/plain": [
       "'Its odd'"
      ]
     },
     "execution_count": 1,
     "metadata": {},
     "output_type": "execute_result"
    }
   ],
   "source": [
    "#1 Check if a number is even or odd.\n",
    "def check(a):\n",
    "    if a%2==0:\n",
    "        return \"Its even\"\n",
    "    else:\n",
    "        return \"Its odd\"\n",
    "b=int(input(\"Enter a num:\"))\n",
    "check(b)\n",
    "        "
   ]
  },
  {
   "cell_type": "code",
   "execution_count": 2,
   "id": "a045ad21-6755-4c2c-a83e-04387bc6993b",
   "metadata": {},
   "outputs": [
    {
     "name": "stdin",
     "output_type": "stream",
     "text": [
      "Enter a num 7\n"
     ]
    },
    {
     "name": "stdout",
     "output_type": "stream",
     "text": [
      "The factorial of 7 is : 5040\n"
     ]
    },
    {
     "data": {
      "text/plain": [
       "5040"
      ]
     },
     "execution_count": 2,
     "metadata": {},
     "output_type": "execute_result"
    }
   ],
   "source": [
    "#2 Write a function to find factorial.\n",
    "\n",
    "def fact(n):\n",
    "    i=1\n",
    "    fact=1\n",
    "    while i<=a:\n",
    "        fact *= i\n",
    "        i += 1\n",
    "    return fact\n",
    "a=int(input(\"Enter a num:\"))\n",
    "result=fact(a)\n",
    "print(f\"The factorial of {a} is : {result}\")\n",
    "fact(a)\n",
    "    "
   ]
  },
  {
   "cell_type": "code",
   "execution_count": 3,
   "id": "8dd3acc4-a21c-4e05-bf57-6da57d5905e3",
   "metadata": {},
   "outputs": [
    {
     "name": "stdin",
     "output_type": "stream",
     "text": [
      "Enter a num: 8\n"
     ]
    },
    {
     "name": "stdout",
     "output_type": "stream",
     "text": [
      "8 is not a prime number !\n"
     ]
    }
   ],
   "source": [
    "#3 \n",
    "# Function to check prime number.\n",
    "\n",
    "def is_prime(num):\n",
    "    #A prime num must be greater than 1\n",
    "    if num<=1:\n",
    "        return False\n",
    "\n",
    "    #We loop through each num from 2 up to the number itself\n",
    "    for i in range(2,num):\n",
    "        #we check if the number is divisible by i \n",
    "        if(i%2==0):\n",
    "            #if it is divisible,its not a prime num!\n",
    "            return False\n",
    "    return True\n",
    "\n",
    "#Lets test our function\n",
    "n=int(input(\"Enter a num:\"))\n",
    "if is_prime(n):\n",
    "    print(f\"{n} is a prime num\")\n",
    "else:\n",
    "    print(f\"{n} is not a prime number !\")"
   ]
  },
  {
   "cell_type": "code",
   "execution_count": 7,
   "id": "4eb746b6-457e-44f9-833a-f0ca8310f94d",
   "metadata": {},
   "outputs": [
    {
     "name": "stdin",
     "output_type": "stream",
     "text": [
      "Enter a input: python\n"
     ]
    },
    {
     "name": "stdout",
     "output_type": "stream",
     "text": [
      "nohtyp\n"
     ]
    }
   ],
   "source": [
    "#4 \n",
    "# Function to reverse a string.\n",
    "\n",
    "def rev_str(a):\n",
    "    # return a[::-1]\n",
    "\n",
    "    rev=\"\"\n",
    "    for char in a:\n",
    "        rev=char + rev\n",
    "    return rev    \n",
    "\n",
    "b=input(\"Enter a input:\")\n",
    "c=rev_str(b)\n",
    "print(c)"
   ]
  },
  {
   "cell_type": "code",
   "execution_count": 8,
   "id": "54f51837-f1ca-43ba-8b80-d56f65b20f78",
   "metadata": {},
   "outputs": [
    {
     "name": "stdin",
     "output_type": "stream",
     "text": [
      "Enter a num: 8\n",
      "Enter a num: 6\n",
      "Enter a num: 4\n"
     ]
    },
    {
     "data": {
      "text/plain": [
       "'A is greatest'"
      ]
     },
     "execution_count": 8,
     "metadata": {},
     "output_type": "execute_result"
    }
   ],
   "source": [
    "#5 function to return largest of 3 numbers.\n",
    "\n",
    "def larg_3(a,b,c):\n",
    "    if a>b and a>c:\n",
    "        return \"A is greatest\"\n",
    "    elif b>a and b>c:\n",
    "        return \"B is greatest\"\n",
    "    else:\n",
    "        return \"C is greatest\"\n",
    "a=int(input(\"Enter a num:\"))\n",
    "b=int(input(\"Enter a num:\"))\n",
    "c=int(input(\"Enter a num:\"))\n",
    "larg_3(a,b,c)        "
   ]
  },
  {
   "cell_type": "code",
   "execution_count": 1,
   "id": "cd3d5c28-3cda-4e3b-bd81-05172bdecc23",
   "metadata": {},
   "outputs": [
    {
     "name": "stdin",
     "output_type": "stream",
     "text": [
      "Enter a input: hello\n"
     ]
    },
    {
     "data": {
      "text/plain": [
       "{'e': 1, 'o': 1}"
      ]
     },
     "execution_count": 1,
     "metadata": {},
     "output_type": "execute_result"
    }
   ],
   "source": [
    "#6 Function to count vowels in a string.\n",
    "\n",
    "def vov(n):\n",
    "    vowels=\"aeiouAEIOU\"\n",
    "    count={}\n",
    "\n",
    "    for char in n:\n",
    "        if char in vowels:\n",
    "            if char in count:\n",
    "                count[char] +=1\n",
    "            else:\n",
    "                count[char] =1\n",
    "    return count\n",
    "a=input(\"Enter a input:\")\n",
    "b=vov(a)\n",
    "vov(a)"
   ]
  },
  {
   "cell_type": "code",
   "execution_count": 21,
   "id": "d93f8804-636e-4ec1-9b72-4a8a61d7fe6f",
   "metadata": {},
   "outputs": [
    {
     "name": "stdin",
     "output_type": "stream",
     "text": [
      "Enter a num: 345\n"
     ]
    },
    {
     "name": "stdout",
     "output_type": "stream",
     "text": [
      "345 is not a palindrome!\n"
     ]
    }
   ],
   "source": [
    "#7 Function to check palindrome number.digit from the number.\n",
    "def pal(n):\n",
    "    original = n\n",
    "    reversed_num=0\n",
    "\n",
    "    while n>0:\n",
    "        digit=n%10\n",
    "        reversed_num=(reversed_num* 10) + digit\n",
    "        n=n//10\n",
    "\n",
    "    if original == reversed_num:\n",
    "        return True\n",
    "    else:\n",
    "        return False\n",
    "\n",
    "a=int(input(\"Enter a num:\"))\n",
    "if pal(a):\n",
    "    print(f\"{a} is a palindrome!\")\n",
    "else:\n",
    "    print(f\"{a} is not a palindrome!\")"
   ]
  },
  {
   "cell_type": "code",
   "execution_count": 19,
   "id": "cb0d1fe3-7dfe-42b3-b331-ededb5f899f7",
   "metadata": {},
   "outputs": [
    {
     "name": "stdout",
     "output_type": "stream",
     "text": [
      "Final Amount: $1647.01\n",
      "Compound Interest: $647.01\n"
     ]
    }
   ],
   "source": [
    "#8 Function to calculate compound interest.\n",
    "\n",
    "def compound_interest(principal, rate, time, n):\n",
    "    amount = principal * (1 + rate / n) ** (n * time)\n",
    "    interest = amount - principal\n",
    "    return amount, interest\n",
    "\n",
    "# Example usage\n",
    "principal = 1000\n",
    "rate = 0.05  # 5%\n",
    "time = 10    # 10 years\n",
    "n = 12       # Monthly compounding\n",
    "\n",
    "final_amount, interest = compound_interest(principal, rate, time, n)\n",
    "print(f\"Final Amount: ${final_amount:.2f}\")\n",
    "print(f\"Compound Interest: ${interest:.2f}\")   "
   ]
  },
  {
   "cell_type": "code",
   "execution_count": 26,
   "id": "f093a667-e301-4a74-81f4-e3b9bbd965f6",
   "metadata": {},
   "outputs": [
    {
     "name": "stdout",
     "output_type": "stream",
     "text": [
      "The sum of all even sum is 1088\n"
     ]
    }
   ],
   "source": [
    "#9 Function that takes list & returns sum of even numbers only.\n",
    "\n",
    "def sum_even(l):\n",
    "    add=0\n",
    "\n",
    "    for item in l:\n",
    "        if item%2==0:\n",
    "            add += item\n",
    "    return add        \n",
    "\n",
    "l=[12,34,546,12,4345,2345,12,341,4551,2,213,432,12,22,123,4,3]\n",
    "\n",
    "even_sum=sum_even(l)\n",
    "print(f\"The sum of all even sum is {even_sum}\")"
   ]
  },
  {
   "cell_type": "code",
   "execution_count": 27,
   "id": "ae8dcca3-15f7-46e6-9f5c-fc3bc5bc476a",
   "metadata": {},
   "outputs": [
    {
     "name": "stdout",
     "output_type": "stream",
     "text": [
      "25\n",
      "50\n"
     ]
    }
   ],
   "source": [
    "#10 Function with default arguments (e.g. area of rectangle).\n",
    "\n",
    "def rectangle(length,width=10):\n",
    "    return length * width\n",
    "\n",
    "area1=rectangle(5,5)\n",
    "print(area1)\n",
    "\n",
    "area2=rectangle(5)\n",
    "print(area2)"
   ]
  }
 ],
 "metadata": {
  "kernelspec": {
   "display_name": "Python 3 (ipykernel)",
   "language": "python",
   "name": "python3"
  },
  "language_info": {
   "codemirror_mode": {
    "name": "ipython",
    "version": 3
   },
   "file_extension": ".py",
   "mimetype": "text/x-python",
   "name": "python",
   "nbconvert_exporter": "python",
   "pygments_lexer": "ipython3",
   "version": "3.13.5"
  }
 },
 "nbformat": 4,
 "nbformat_minor": 5
}
