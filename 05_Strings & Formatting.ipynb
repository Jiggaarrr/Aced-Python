{
 "cells": [
  {
   "cell_type": "code",
   "execution_count": 1,
   "id": "00054277-3286-446f-a258-9f085ed70c26",
   "metadata": {},
   "outputs": [
    {
     "name": "stdin",
     "output_type": "stream",
     "text": [
      "Enter a input: hello world\n"
     ]
    },
    {
     "name": "stdout",
     "output_type": "stream",
     "text": [
      "{'h': 1, 'e': 1, 'l': 3, 'o': 2, ' ': 1, 'w': 1, 'r': 1, 'd': 1}\n"
     ]
    }
   ],
   "source": [
    "#1 Count frequency of each character in a string.\n",
    "\n",
    "a=input(\"Enter a input:\")\n",
    "count={}\n",
    "\n",
    "for char in a:\n",
    "    if char in count:\n",
    "        count[char] += 1\n",
    "\n",
    "    else:\n",
    "        count[char] =1\n",
    "print(count)        "
   ]
  },
  {
   "cell_type": "code",
   "execution_count": 7,
   "id": "2291401b-1b13-4152-a190-b250cd86e13e",
   "metadata": {},
   "outputs": [
    {
     "name": "stdin",
     "output_type": "stream",
     "text": [
      "Enter a input: bananas\n"
     ]
    },
    {
     "name": "stdout",
     "output_type": "stream",
     "text": [
      "bnns\n"
     ]
    }
   ],
   "source": [
    "#2 Remove all vowels from a string.\n",
    "\n",
    "a=input(\"Enter a input:\")\n",
    "rev_vov=\"\"\n",
    "vowels=\"aeiouAEIOU\"\n",
    "\n",
    "for char in a:\n",
    "    if char not in vowels:\n",
    "        rev_vov += char\n",
    "\n",
    "print(rev_vov)\n",
    "        "
   ]
  },
  {
   "cell_type": "code",
   "execution_count": 8,
   "id": "8b7a6ded-0294-4a63-8ab9-28a1f68bdaf9",
   "metadata": {},
   "outputs": [
    {
     "name": "stdin",
     "output_type": "stream",
     "text": [
      "Enter a input: listen\n",
      "Enter a input: silent\n"
     ]
    },
    {
     "data": {
      "text/plain": [
       "True"
      ]
     },
     "execution_count": 8,
     "metadata": {},
     "output_type": "execute_result"
    }
   ],
   "source": [
    "#3 Check if string is anagram of another.\n",
    "\n",
    "a=input(\"Enter a input:\")\n",
    "b=input(\"Enter a input:\")\n",
    "\n",
    "sorted(a) == sorted(b)\n"
   ]
  },
  {
   "cell_type": "code",
   "execution_count": 11,
   "id": "31968d9b-9c55-4097-8104-166cd42d8d68",
   "metadata": {},
   "outputs": [
    {
     "name": "stdin",
     "output_type": "stream",
     "text": [
      "Enter a input: hello world\n"
     ]
    },
    {
     "name": "stdout",
     "output_type": "stream",
     "text": [
      "['world', 'hello']\n"
     ]
    }
   ],
   "source": [
    "#4 Reverse each word in a sentence.\n",
    "\n",
    "a=input(\"Enter a input:\")\n",
    "b=a.split()\n",
    "\n",
    "for item in b:\n",
    "    reverse=b[::-1]\n",
    "\n",
    "print(str(reverse))"
   ]
  },
  {
   "cell_type": "code",
   "execution_count": 14,
   "id": "3a2ad8c5-d409-441b-89e6-910608b92edb",
   "metadata": {},
   "outputs": [
    {
     "name": "stdin",
     "output_type": "stream",
     "text": [
      "Enter a input: hello world\n"
     ]
    },
    {
     "name": "stdout",
     "output_type": "stream",
     "text": [
      "Hello World\n"
     ]
    }
   ],
   "source": [
    "#5 Capitalize first letter of each word.\n",
    "\n",
    "a=input(\"Enter a input:\").title()\n",
    "print(a)\n"
   ]
  },
  {
   "cell_type": "code",
   "execution_count": 15,
   "id": "a5f43df5-3d97-492a-aef8-96fda5c9060a",
   "metadata": {},
   "outputs": [
    {
     "name": "stdout",
     "output_type": "stream",
     "text": [
      "\"My name is Jigar and age is 18\".\n"
     ]
    }
   ],
   "source": [
    "#6 Format string: “My name is X and age is Y”.\n",
    "\n",
    "name=\"Jigar\"\n",
    "age=18\n",
    "\n",
    "print(f'\"My name is {name} and age is {age}\".')"
   ]
  },
  {
   "cell_type": "code",
   "execution_count": 17,
   "id": "d4ab4532-b26f-428b-85a5-142c0d6fd143",
   "metadata": {},
   "outputs": [
    {
     "name": "stdin",
     "output_type": "stream",
     "text": [
      "Enter a input: hello\n"
     ]
    },
    {
     "name": "stdout",
     "output_type": "stream",
     "text": [
      "helo\n"
     ]
    }
   ],
   "source": [
    "#7 Remove all duplicates from a string.\n",
    "\n",
    "a=input(\"Enter a input:\")\n",
    "checked={}\n",
    "string=\"\"\n",
    "\n",
    "for char in a:\n",
    "    if char not in checked:\n",
    "        string += char\n",
    "        checked[char] = 1\n",
    "print(string)        \n",
    "        \n"
   ]
  },
  {
   "cell_type": "code",
   "execution_count": 27,
   "id": "14bada0b-a4c8-4622-85cf-de9ed0ff413f",
   "metadata": {},
   "outputs": [
    {
     "name": "stdin",
     "output_type": "stream",
     "text": [
      "Enter a input: i love data science\n"
     ]
    },
    {
     "name": "stdout",
     "output_type": "stream",
     "text": [
      "science\n"
     ]
    }
   ],
   "source": [
    "#8 Find longest word in a string.\n",
    "\n",
    "a=input(\"Enter a input:\")\n",
    "b=a.split()\n",
    "# c=max(b)\n",
    "print(max(b))"
   ]
  },
  {
   "cell_type": "code",
   "execution_count": 28,
   "id": "46c6c498-bce3-4722-8278-2fe21e6f34a6",
   "metadata": {},
   "outputs": [
    {
     "name": "stdin",
     "output_type": "stream",
     "text": [
      "Enter a input: hello world\n"
     ]
    },
    {
     "name": "stdout",
     "output_type": "stream",
     "text": [
      "hello_world\n"
     ]
    }
   ],
   "source": [
    "#9 Replace spaces with underscores.\n",
    "\n",
    "a=input(\"Enter a input:\").replace(\" \",\"_\")\n",
    "print(a)"
   ]
  },
  {
   "cell_type": "code",
   "execution_count": 30,
   "id": "f701d85a-8998-4aff-8c39-dad881c39e4a",
   "metadata": {},
   "outputs": [
    {
     "name": "stdin",
     "output_type": "stream",
     "text": [
      "Enter a input: hello123 world123\n"
     ]
    },
    {
     "name": "stdout",
     "output_type": "stream",
     "text": [
      "The total digit count is: 6\n",
      "The total char count is: 10\n"
     ]
    }
   ],
   "source": [
    "#10 Count how many digits & alphabets in a string.\n",
    "\n",
    "a=input(\"Enter a input:\")\n",
    "digit_count=0\n",
    "alpha_count=0\n",
    "\n",
    "for char in a:\n",
    "    if char.isalpha():\n",
    "        alpha_count +=1 \n",
    "    elif char.isdigit():\n",
    "        digit_count += 1\n",
    "\n",
    "print(\"The total digit count is:\",digit_count)\n",
    "print(\"The total char count is:\",alpha_count)\n",
    "        "
   ]
  }
 ],
 "metadata": {
  "kernelspec": {
   "display_name": "Python 3 (ipykernel)",
   "language": "python",
   "name": "python3"
  },
  "language_info": {
   "codemirror_mode": {
    "name": "ipython",
    "version": 3
   },
   "file_extension": ".py",
   "mimetype": "text/x-python",
   "name": "python",
   "nbconvert_exporter": "python",
   "pygments_lexer": "ipython3",
   "version": "3.13.5"
  }
 },
 "nbformat": 4,
 "nbformat_minor": 5
}
