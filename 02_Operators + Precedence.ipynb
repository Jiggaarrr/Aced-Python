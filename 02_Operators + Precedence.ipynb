{
 "cells": [
  {
   "cell_type": "code",
   "execution_count": null,
   "id": "fd1041e4-fd3a-4088-a0f9-018c051ad765",
   "metadata": {},
   "outputs": [],
   "source": [
    "\"\"\"\n",
    "Evaluate 3 + 4 * 2 / (1 - 5) ** 2.\n",
    "\n",
    "Build a simple calculator using only operators.\n",
    "\n",
    "Write a program to check if a number is divisible by both 3 and 5.\n",
    "\n",
    "Demonstrate difference between == and is.\n",
    "\n",
    "Show effect of operator precedence in a = 10; b = 20; print(a < b == True).\n",
    "\n",
    "3. Input + Match Case (Q11–Q15)\"\"\""
   ]
  },
  {
   "cell_type": "code",
   "execution_count": 4,
   "id": "b53fe6fb-a8db-44c9-92f3-26b7aedb566a",
   "metadata": {},
   "outputs": [
    {
     "name": "stdout",
     "output_type": "stream",
     "text": [
      "3.5\n"
     ]
    }
   ],
   "source": [
    "#1 \n",
    "# a=3+4*2/(1-5) ** 2\n",
    "a=8/16 + 3\n",
    "\"\"\"\n",
    "4**2=16\n",
    "4*2=8\n",
    "3+8/16\n",
    "\"\"\"\n",
    "print(a)"
   ]
  },
  {
   "cell_type": "code",
   "execution_count": 5,
   "id": "8ff81b03-ede4-4343-a93b-e2dcd8290aae",
   "metadata": {},
   "outputs": [
    {
     "name": "stdin",
     "output_type": "stream",
     "text": [
      "Enter a num: 5\n",
      "Enter a num: 5\n"
     ]
    },
    {
     "name": "stdout",
     "output_type": "stream",
     "text": [
      "10\n",
      "0\n",
      "25\n",
      "1.0\n"
     ]
    }
   ],
   "source": [
    "#2 \n",
    "# Build a simple calculator using only operators.\n",
    "\n",
    "a=int(input(\"Enter a num:\"))\n",
    "b=int(input(\"Enter a num:\"))\n",
    "print(a+b)\n",
    "print(a-b)\n",
    "print(a*b)\n",
    "print(a/b)"
   ]
  },
  {
   "cell_type": "code",
   "execution_count": 9,
   "id": "c24f604a-10d2-499a-9da9-e682f3c311fa",
   "metadata": {},
   "outputs": [
    {
     "name": "stdin",
     "output_type": "stream",
     "text": [
      "Enter a num: 56\n"
     ]
    },
    {
     "name": "stdout",
     "output_type": "stream",
     "text": [
      "Divisible by none!\n"
     ]
    }
   ],
   "source": [
    "#3 \n",
    "\n",
    "a=int(input(\"Enter a num:\"))\n",
    "\n",
    "if a%3==0 and a%5==0:\n",
    "    print(\"Divisible by both\")\n",
    "elif a%5==0:\n",
    "    print(\"Divisible by 5\")\n",
    "elif a%3==0:\n",
    "    print(\"Divisible by 3\")\n",
    "else:\n",
    "    print(\"Divisible by none!\")"
   ]
  },
  {
   "cell_type": "code",
   "execution_count": 10,
   "id": "a0fb3fd7-005d-47dd-bd80-1b69847d731e",
   "metadata": {},
   "outputs": [
    {
     "name": "stdout",
     "output_type": "stream",
     "text": [
      "True\n",
      "True\n"
     ]
    }
   ],
   "source": [
    "#4\n",
    "\n",
    "a=5\n",
    "b=5\n",
    "print(a == b) # Compare object 5 == 5\n",
    "print(a is b) # Compare identity int == int\n"
   ]
  },
  {
   "cell_type": "code",
   "execution_count": 11,
   "id": "026194df-5e18-402c-b43d-dbd124a50d41",
   "metadata": {},
   "outputs": [
    {
     "name": "stdout",
     "output_type": "stream",
     "text": [
      "False\n"
     ]
    }
   ],
   "source": [
    "#5 Show effect of operator precedence in \n",
    "a = 10\n",
    "b = 20\n",
    "print(a < b == True)\n",
    "\n",
    "\"\"\"\n",
    "a<b shows True but then b == True(20 == True) (we are comparing integer value to Boolean value so\n",
    "it always give me false!)"
   ]
  }
 ],
 "metadata": {
  "kernelspec": {
   "display_name": "Python 3 (ipykernel)",
   "language": "python",
   "name": "python3"
  },
  "language_info": {
   "codemirror_mode": {
    "name": "ipython",
    "version": 3
   },
   "file_extension": ".py",
   "mimetype": "text/x-python",
   "name": "python",
   "nbconvert_exporter": "python",
   "pygments_lexer": "ipython3",
   "version": "3.13.5"
  }
 },
 "nbformat": 4,
 "nbformat_minor": 5
}
