{
 "cells": [
  {
   "cell_type": "code",
   "execution_count": null,
   "id": "3f6a5143-86bd-41b3-9646-79f5a972f847",
   "metadata": {},
   "outputs": [],
   "source": [
    "\"\"\"\n",
    "Swap two numbers without using a third variable.\n",
    "\n",
    "Convert a string to an integer and vice versa.\n",
    "\n",
    "Write a program to check the type of each variable in a list.\n",
    "\n",
    "Input a float number and round it to 2 decimal places.\n",
    "\n",
    "Convert an integer to binary, octal, and hexadecimal.\n",
    "\"\"\""
   ]
  },
  {
   "cell_type": "code",
   "execution_count": 1,
   "id": "06d28b39-0e32-43c0-a717-ee89bfae1045",
   "metadata": {},
   "outputs": [
    {
     "name": "stdout",
     "output_type": "stream",
     "text": [
      "The value of a is:6 and b is:5\n"
     ]
    }
   ],
   "source": [
    "#1 \n",
    "a=5\n",
    "b=6\n",
    "print(f\"The value of a is:{b} and b is:{a}\")"
   ]
  },
  {
   "cell_type": "code",
   "execution_count": 3,
   "id": "3eb7d337-996e-41a8-828e-0af2ba799b41",
   "metadata": {},
   "outputs": [
    {
     "name": "stdin",
     "output_type": "stream",
     "text": [
      "Enter a num: 4\n"
     ]
    },
    {
     "name": "stdout",
     "output_type": "stream",
     "text": [
      "4 <class 'int'>\n",
      "4 <class 'str'>\n"
     ]
    }
   ],
   "source": [
    "#2 \n",
    "a=int(input(\"Enter a num:\"))\n",
    "print(a,type(a))\n",
    "b=str(a)\n",
    "print(b,type(b))"
   ]
  },
  {
   "cell_type": "code",
   "execution_count": 5,
   "id": "5fe1a22f-d4eb-4ee1-ad8b-1962203165bd",
   "metadata": {},
   "outputs": [
    {
     "name": "stdout",
     "output_type": "stream",
     "text": [
      "2 <class 'int'>\n",
      "True <class 'bool'>\n",
      "hello <class 'str'>\n",
      "4.5 <class 'float'>\n"
     ]
    }
   ],
   "source": [
    "#3 \n",
    "l=[2,True,\"hello\",4.5]\n",
    "for item in l:\n",
    "    print(item,type(item))\n"
   ]
  },
  {
   "cell_type": "code",
   "execution_count": 12,
   "id": "36861047-70c4-4696-9e6f-311960896709",
   "metadata": {},
   "outputs": [
    {
     "name": "stdout",
     "output_type": "stream",
     "text": [
      "8.32\n"
     ]
    }
   ],
   "source": [
    "#4 \n",
    "# put a float number and round it to 2 decimal places.\n",
    "\n",
    "a=8.323241324123\n",
    "print(f\"{a:.2f}\")"
   ]
  },
  {
   "cell_type": "code",
   "execution_count": 13,
   "id": "05399774-b90c-464a-af2c-95226b22915c",
   "metadata": {},
   "outputs": [
    {
     "name": "stdout",
     "output_type": "stream",
     "text": [
      "0b1010\n",
      "0xa\n",
      "0o12\n"
     ]
    }
   ],
   "source": [
    "#5 \n",
    "a=10\n",
    "print(bin(a))\n",
    "print(hex(a))\n",
    "print(oct(a))"
   ]
  }
 ],
 "metadata": {
  "kernelspec": {
   "display_name": "Python 3 (ipykernel)",
   "language": "python",
   "name": "python3"
  },
  "language_info": {
   "codemirror_mode": {
    "name": "ipython",
    "version": 3
   },
   "file_extension": ".py",
   "mimetype": "text/x-python",
   "name": "python",
   "nbconvert_exporter": "python",
   "pygments_lexer": "ipython3",
   "version": "3.13.5"
  }
 },
 "nbformat": 4,
 "nbformat_minor": 5
}
