{
 "cells": [
  {
   "cell_type": "code",
   "execution_count": null,
   "id": "1cd47510-3861-4814-bf80-bf3e5df868b7",
   "metadata": {},
   "outputs": [],
   "source": [
    "\"\"\"Take 2 numbers & operation (+,-,*,/) and compute result.\n",
    "\n",
    "Build a menu-driven program using match-case (Calculator, Converter, Exit).\n",
    "\n",
    "Write a program to classify grade (A, B, C, Fail) using match-case.\n",
    "\n",
    "Create a simple unit converter (cm→m, kg→g, etc.) with match-case.\n",
    "\n",
    "Check if entered day is weekend or weekday\"\"\""
   ]
  },
  {
   "cell_type": "code",
   "execution_count": 3,
   "id": "54059cee-2659-4fb8-8e9a-c89c1a999ed5",
   "metadata": {},
   "outputs": [
    {
     "name": "stdin",
     "output_type": "stream",
     "text": [
      "Enter a num: 5\n",
      "Enter a num: 5\n",
      "Enter a operation: x\n"
     ]
    },
    {
     "name": "stdout",
     "output_type": "stream",
     "text": [
      "25\n"
     ]
    }
   ],
   "source": [
    "#1\n",
    "a=int(input(\"Enter a num:\"))\n",
    "b=int(input(\"Enter a num:\"))\n",
    "op=input(\"Enter a operation:\")\n",
    "\n",
    "match op:\n",
    "    case \"+\":\n",
    "        print(a+b)\n",
    "    case \"-\":\n",
    "        print(a-b)\n",
    "    case \"x\":\n",
    "        print(a*b)\n",
    "    case \"/\":\n",
    "        print(a/b)\n",
    "    case __:\n",
    "        print(\"Use Valid value!\")\n",
    "\n"
   ]
  },
  {
   "cell_type": "code",
   "execution_count": 4,
   "id": "3d4849f6-886c-4e48-95b0-f872804823bc",
   "metadata": {},
   "outputs": [
    {
     "name": "stdin",
     "output_type": "stream",
     "text": [
      "Enter a num: 5\n",
      "Enter a num: 5\n",
      "Enter a operation: exit\n"
     ]
    },
    {
     "name": "stdout",
     "output_type": "stream",
     "text": [
      "Goodbye sir!\n"
     ]
    }
   ],
   "source": [
    "#2 \n",
    "a=int(input(\"Enter a num:\"))\n",
    "b=int(input(\"Enter a num:\"))\n",
    "op=input(\"Enter a operation:\")\n",
    "\n",
    "match op:\n",
    "    case \"+\":\n",
    "        print(a+b)\n",
    "    case \"-\":\n",
    "        print(a-b)\n",
    "    case \"x\":\n",
    "        print(a*b)\n",
    "    case \"/\":\n",
    "        print(a/b)\n",
    "    case \"exit\":\n",
    "        print(\"Goodbye sir!\")\n",
    "    case __:\n",
    "        print(\"Enter valid value!\")\n",
    "        \n"
   ]
  },
  {
   "cell_type": "code",
   "execution_count": 8,
   "id": "0c637a33-dfe6-4763-8fc2-6e98a779d446",
   "metadata": {},
   "outputs": [
    {
     "name": "stdin",
     "output_type": "stream",
     "text": [
      "Enter your marks: 67\n"
     ]
    },
    {
     "name": "stdout",
     "output_type": "stream",
     "text": [
      "Congrats! You got a D grade\n"
     ]
    }
   ],
   "source": [
    "#3\n",
    "a = int(input(\"Enter your marks:\"))\n",
    "grade = \"\"\n",
    "\n",
    "if 90 <= a <= 100:\n",
    "    grade = \"A\"\n",
    "elif 80 <= a <= 90:\n",
    "    grade = \"B\"\n",
    "elif 70 <= a <= 80:\n",
    "    grade = \"C\"\n",
    "elif 60 <= a <= 70:\n",
    "    grade = \"D\"\n",
    "else:\n",
    "    grade = \"F\"\n",
    "\n",
    "match grade:\n",
    "    case \"A\":\n",
    "        print(\"Congrats! You got an A grade\")\n",
    "    case \"B\":\n",
    "        print(\"Congrats! You got a B grade\")\n",
    "    case \"C\":\n",
    "        print(\"Congrats! You got a C grade\")\n",
    "    case \"D\":\n",
    "        print(\"Congrats! You got a D grade\")\n",
    "    case \"F\":\n",
    "        print(\"Sorry! You got an F grade\")\n",
    "        "
   ]
  },
  {
   "cell_type": "code",
   "execution_count": 9,
   "id": "675c72ef-2f1c-4908-8394-4047623a61d6",
   "metadata": {},
   "outputs": [
    {
     "name": "stdin",
     "output_type": "stream",
     "text": [
      "Enter input: 45\n",
      "Enter operations: kg to g\n"
     ]
    },
    {
     "name": "stdout",
     "output_type": "stream",
     "text": [
      "0.045\n"
     ]
    }
   ],
   "source": [
    "#4 \n",
    "a=int(input(\"Enter input:\"))\n",
    "op=input(\"Enter operations:\").lower().strip()\n",
    "\n",
    "match op:\n",
    "    case \"cm to meter\":\n",
    "        print(a/100)\n",
    "    case \"m to cm\":\n",
    "        print(a*100)\n",
    "    case \"g to kg\":\n",
    "        print(a*1000)\n",
    "    case \"kg to g\":\n",
    "        print(a/1000)"
   ]
  },
  {
   "cell_type": "code",
   "execution_count": 11,
   "id": "20bbc0e3-05f6-4b45-8fc7-80bfac904a7c",
   "metadata": {},
   "outputs": [
    {
     "name": "stdin",
     "output_type": "stream",
     "text": [
      "Enter a day: monday\n"
     ]
    },
    {
     "name": "stdout",
     "output_type": "stream",
     "text": [
      "monday is weekdaY!\n"
     ]
    }
   ],
   "source": [
    "#5 \n",
    "a=input(\"Enter a day:\")\n",
    "\n",
    "match a:\n",
    "    case \"monday\"|\"tuesday\"|\"wednesday\"|\"thursday\"|\"friday\":\n",
    "        print(f\"{a} is weekdaY!\")\n",
    "    case \"saturday\"|\"sunday\":\n",
    "        print(f\"{a} is weekend!\")"
   ]
  }
 ],
 "metadata": {
  "kernelspec": {
   "display_name": "Python 3 (ipykernel)",
   "language": "python",
   "name": "python3"
  },
  "language_info": {
   "codemirror_mode": {
    "name": "ipython",
    "version": 3
   },
   "file_extension": ".py",
   "mimetype": "text/x-python",
   "name": "python",
   "nbconvert_exporter": "python",
   "pygments_lexer": "ipython3",
   "version": "3.13.5"
  }
 },
 "nbformat": 4,
 "nbformat_minor": 5
}
