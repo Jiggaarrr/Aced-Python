{
 "cells": [
  {
   "cell_type": "code",
   "execution_count": 1,
   "id": "dee76991-7a35-4ec7-9ee4-3b58727ec7aa",
   "metadata": {},
   "outputs": [
    {
     "name": "stdout",
     "output_type": "stream",
     "text": [
      "{1, 2, 234, 34}\n"
     ]
    }
   ],
   "source": [
    "#1 Remove duplicates from list using set.\n",
    "l=[1,2,1,1,234,1,2,34,1]\n",
    "print(set(l))"
   ]
  },
  {
   "cell_type": "code",
   "execution_count": 5,
   "id": "06dc98cb-06cb-4975-8462-bb8891c66cbf",
   "metadata": {},
   "outputs": [
    {
     "name": "stdout",
     "output_type": "stream",
     "text": [
      "{5}\n",
      "{1, 2, 3, 4, 5, 6, 7, 8, 9, 10}\n",
      "{1, 2, 3, 4}\n",
      "{6, 7, 8, 9, 10}\n"
     ]
    }
   ],
   "source": [
    "#2 Find union, intersection, difference of sets.\n",
    "l={1,2,3,4,5}\n",
    "l2={5,6,7,8,9,10}\n",
    "\n",
    "print(l.intersection(l2))\n",
    "print(l.union(l2))\n",
    "print(l.difference(l2))\n",
    "print(l2.difference(l))"
   ]
  },
  {
   "cell_type": "code",
   "execution_count": 11,
   "id": "38143994-a61a-4c40-96d4-2db94e5bfb09",
   "metadata": {},
   "outputs": [
    {
     "name": "stdout",
     "output_type": "stream",
     "text": [
      "True\n",
      "True\n"
     ]
    }
   ],
   "source": [
    "#3 Check if one set is subset of another.\n",
    "\n",
    "l={1,2,3,4,5}\n",
    "l2={1,2,3,4,5,6,7,8}\n",
    "\n",
    "print(l.issubset(l2))\n",
    "print(l2.issuperset(l))\n"
   ]
  },
  {
   "cell_type": "code",
   "execution_count": 15,
   "id": "e0fd0c22-292c-4b57-b618-7671f2eece61",
   "metadata": {},
   "outputs": [
    {
     "name": "stdout",
     "output_type": "stream",
     "text": [
      "{6, 7, 8}\n"
     ]
    }
   ],
   "source": [
    "#4  Find symmetric difference of sets.\n",
    "\n",
    "l={1,2,3,4,5}\n",
    "l2={1,2,3,4,5,6,7,8}\n",
    "print(l2.symmetric_difference(l))\n"
   ]
  },
  {
   "cell_type": "code",
   "execution_count": 16,
   "id": "990a7b15-f8d4-4e54-97fc-32b42a491a04",
   "metadata": {},
   "outputs": [
    {
     "name": "stdin",
     "output_type": "stream",
     "text": [
      "Enter a input: hello world i love python and data science i love machine learning i love numpy ,pandas\n"
     ]
    },
    {
     "name": "stdout",
     "output_type": "stream",
     "text": [
      "{'i', 'and', 'data', 'numpy', 'world', 'science', ',pandas', 'love', 'hello', 'learning', 'python', 'machine'}\n"
     ]
    }
   ],
   "source": [
    "#5 Count unique words in a sentence using set.\n",
    "\n",
    "a=input(\"Enter a input:\")\n",
    "b=a.split()\n",
    "print(set(b))"
   ]
  }
 ],
 "metadata": {
  "kernelspec": {
   "display_name": "Python 3 (ipykernel)",
   "language": "python",
   "name": "python3"
  },
  "language_info": {
   "codemirror_mode": {
    "name": "ipython",
    "version": 3
   },
   "file_extension": ".py",
   "mimetype": "text/x-python",
   "name": "python",
   "nbconvert_exporter": "python",
   "pygments_lexer": "ipython3",
   "version": "3.13.5"
  }
 },
 "nbformat": 4,
 "nbformat_minor": 5
}
