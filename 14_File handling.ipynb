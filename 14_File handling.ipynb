{
 "cells": [
  {
   "cell_type": "code",
   "execution_count": null,
   "id": "d435014a-1c82-42c6-b29e-9ca3596cc795",
   "metadata": {},
   "outputs": [],
   "source": [
    "# Top 10 questions....."
   ]
  },
  {
   "cell_type": "code",
   "execution_count": 2,
   "id": "979cb193-415f-40af-81e9-f6a41328bb2d",
   "metadata": {},
   "outputs": [],
   "source": [
    "#1 Write to a File\n",
    "# Create a file named data.txt and write the text \"Hello, Python!\" into it.\n",
    "\n",
    "\n",
    "with open(\"data.txt\",\"w\") as file:\n",
    "    file.write(\"Hello,world!\")"
   ]
  },
  {
   "cell_type": "code",
   "execution_count": 5,
   "id": "38dd814b-b855-4879-ad3f-aabde2eb0002",
   "metadata": {},
   "outputs": [
    {
     "name": "stdout",
     "output_type": "stream",
     "text": [
      "Hello,world!\n"
     ]
    }
   ],
   "source": [
    "#2 Read a File\n",
    "# Read the content of data.txt and print it.\n",
    "\n",
    "with open(\"data.txt\",\"r\") as file:\n",
    "    a=file.read()\n",
    "    print(a)"
   ]
  },
  {
   "cell_type": "code",
   "execution_count": 18,
   "id": "bba6167a-ccd0-4b5f-a5f9-1915ab713383",
   "metadata": {},
   "outputs": [],
   "source": [
    "#3 Append to a File\n",
    "# Append the text \"This is appended text.\" to an existing file.\n",
    "\n",
    "with open(\"data.txt\",\"a\") as file:\n",
    "    file.write(\"This is an appended text..\")"
   ]
  },
  {
   "cell_type": "code",
   "execution_count": 24,
   "id": "5bb7fda1-676a-427a-9d15-9b0a52077794",
   "metadata": {},
   "outputs": [
    {
     "name": "stdout",
     "output_type": "stream",
     "text": [
      "hello world i love python soo muchhh!!!!\n"
     ]
    }
   ],
   "source": [
    "#4Read First 10 Characters\n",
    "# Read and print only the first 10 characters from a file.\n",
    "\n",
    "with open(\"Example.txt\",\"r\") as file:\n",
    "    content=file.read()\n",
    "    print(content)\n",
    "    "
   ]
  },
  {
   "cell_type": "code",
   "execution_count": 25,
   "id": "dbaf5e7e-5105-4e7e-8c69-78da4b7b4c9a",
   "metadata": {},
   "outputs": [
    {
     "name": "stdout",
     "output_type": "stream",
     "text": [
      "hello world i love python soo muchhh!!!!\n",
      "i love data science\n",
      "i love machine learning!\n",
      "i love Artificial intelligence..!\n",
      "i love my journeyy!!\n"
     ]
    }
   ],
   "source": [
    "#5 Read Line by Line\n",
    "# Read a file and print its content line by line.\n",
    "\n",
    "with open(\"Example.txt\",\"r\") as file:\n",
    "    for line in file:\n",
    "        print(line.strip())"
   ]
  },
  {
   "cell_type": "code",
   "execution_count": 27,
   "id": "d704220c-3fc8-4117-a62b-7977212216c9",
   "metadata": {},
   "outputs": [],
   "source": [
    "#6 Write Multiple Lines\n",
    "# Write 5 different lines into a text file.\n",
    "\n",
    "lines=[\n",
    "    \"hello world\",\n",
    "    \"i love python\",\n",
    "    \"i love ds\",\"i love aiml\",\"i love harrybhai\"]\n",
    "\n",
    "with open(\"Store.txt\",\"w\") as file:\n",
    "    for line in lines:\n",
    "        file.write(line + \"\\n\")"
   ]
  },
  {
   "cell_type": "code",
   "execution_count": 28,
   "id": "bc8fa88b-e753-49ea-a512-c2aa98978c41",
   "metadata": {},
   "outputs": [
    {
     "name": "stdout",
     "output_type": "stream",
     "text": [
      "Yess its there\n"
     ]
    }
   ],
   "source": [
    "#7 Check if File Exists\n",
    "# Use os.path.exists() to check if a given file exists.\n",
    "\n",
    "import os\n",
    "\n",
    "if os.path.exists(\"data.txt\"):\n",
    "    print(\"Yess its there\")\n",
    "else:\n",
    "    print(\"No\")"
   ]
  },
  {
   "cell_type": "code",
   "execution_count": 29,
   "id": "1760204a-687e-480d-b17f-9f82308bba90",
   "metadata": {},
   "outputs": [
    {
     "name": "stdout",
     "output_type": "stream",
     "text": [
      "Total num of characters is: 65\n"
     ]
    }
   ],
   "source": [
    "#8 Count Characters in File\n",
    "# Read a file and print the total number of characters.\n",
    "\n",
    "with open(\"Store.txt\",\"r\") as file:\n",
    "    content=file.read()\n",
    "    print(\"Total num of characters is:\",len(content))\n"
   ]
  },
  {
   "cell_type": "code",
   "execution_count": 30,
   "id": "61eabad6-2a4a-454b-a374-dc5f23d0ae14",
   "metadata": {},
   "outputs": [
    {
     "name": "stdout",
     "output_type": "stream",
     "text": [
      "['hello world i love python soo muchhh!!!!\\n', 'i love data science\\n', 'i love machine learning!\\n', 'i love Artificial intelligence..!\\n', 'i love my journeyy!!']\n"
     ]
    }
   ],
   "source": [
    "#9 Read All Lines into a List\n",
    "# Store all lines from a file in a Python list.\n",
    "\n",
    "with open(\"Example.txt\",\"r\") as file:\n",
    "    content=file.readlines()\n",
    "    print(content)"
   ]
  },
  {
   "cell_type": "code",
   "execution_count": 32,
   "id": "dbeec8af-120c-449d-ae2d-db1b74711eb6",
   "metadata": {},
   "outputs": [],
   "source": [
    "#10 Overwrite File Content\n",
    "# Write new content to an existing file, replacing old content.\n",
    "\n",
    "with open(\"data.txt\",\"w\") as file:\n",
    "    file.write(\"This is a new content,old oness are vanished!\")\n"
   ]
  }
 ],
 "metadata": {
  "kernelspec": {
   "display_name": "Python [conda env:base] *",
   "language": "python",
   "name": "conda-base-py"
  },
  "language_info": {
   "codemirror_mode": {
    "name": "ipython",
    "version": 3
   },
   "file_extension": ".py",
   "mimetype": "text/x-python",
   "name": "python",
   "nbconvert_exporter": "python",
   "pygments_lexer": "ipython3",
   "version": "3.13.5"
  }
 },
 "nbformat": 4,
 "nbformat_minor": 5
}
