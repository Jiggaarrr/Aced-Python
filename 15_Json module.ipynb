{
 "cells": [
  {
   "cell_type": "code",
   "execution_count": null,
   "id": "e4bbe824-4b66-4f8f-9869-e55f9295c2fd",
   "metadata": {},
   "outputs": [],
   "source": [
    "# Top 10 Json module questions.."
   ]
  },
  {
   "cell_type": "code",
   "execution_count": 3,
   "id": "b00acca1-37d3-4b66-9e2f-f80f58e7acfd",
   "metadata": {},
   "outputs": [
    {
     "name": "stdout",
     "output_type": "stream",
     "text": [
      "{\"name\": \"Jigar\", \"grade\": 9.5, \"Branch\": \"Computer engineering\", \"Role\": \"Python data scientist\"} <class 'str'>\n"
     ]
    }
   ],
   "source": [
    "#1 Convert Dictionary to JSON\n",
    "# Convert a Python dictionary into a JSON string using json.dumps().\n",
    "\n",
    "import json\n",
    "\n",
    "info={\n",
    "    \"name\":\"Jigar\",\n",
    "    \"grade\":9.5,\n",
    "    \"Branch\":\"Computer engineering\",\n",
    "    \"Role\":\"Python data scientist\"}\n",
    "\n",
    "# print(info)\n",
    "\n",
    "a=json.dumps(info)\n",
    "print(a,type(a))\n"
   ]
  },
  {
   "cell_type": "code",
   "execution_count": 6,
   "id": "b836649f-3614-4fe1-bd93-1066d4677fe3",
   "metadata": {},
   "outputs": [
    {
     "name": "stdout",
     "output_type": "stream",
     "text": [
      "{'name': 'Jigar', 'grade': 9.5, 'Branch': 'Computer engineering', 'Role': 'Python data scientist'} <class 'dict'>\n"
     ]
    }
   ],
   "source": [
    "#2 Convert JSON to Dictionary\n",
    "# Convert a JSON string into a Python dictionary using json.loads().\n",
    "\n",
    "import json\n",
    "a='{\"name\": \"Jigar\", \"grade\": 9.5, \"Branch\": \"Computer engineering\", \"Role\": \"Python data scientist\"}'\n",
    "\n",
    "b=json.loads(a)\n",
    "print(b,type(b))"
   ]
  },
  {
   "cell_type": "code",
   "execution_count": 28,
   "id": "857731d2-bab6-4066-afd3-fef47ed19897",
   "metadata": {},
   "outputs": [
    {
     "ename": "TypeError",
     "evalue": "'int' object is not subscriptable",
     "output_type": "error",
     "traceback": [
      "\u001b[31m---------------------------------------------------------------------------\u001b[39m",
      "\u001b[31mTypeError\u001b[39m                                 Traceback (most recent call last)",
      "\u001b[36mCell\u001b[39m\u001b[36m \u001b[39m\u001b[32mIn[28]\u001b[39m\u001b[32m, line 73\u001b[39m\n\u001b[32m     71\u001b[39m \u001b[38;5;28;01mwith\u001b[39;00m \u001b[38;5;28mopen\u001b[39m(\u001b[33m\"\u001b[39m\u001b[33mdata.json\u001b[39m\u001b[33m\"\u001b[39m,\u001b[33m\"\u001b[39m\u001b[33mr\u001b[39m\u001b[33m\"\u001b[39m) \u001b[38;5;28;01mas\u001b[39;00m f:\n\u001b[32m     72\u001b[39m     b=json.load(f)\n\u001b[32m---> \u001b[39m\u001b[32m73\u001b[39m     \u001b[38;5;28mprint\u001b[39m(b[\u001b[33m\"\u001b[39m\u001b[33mAlice\u001b[39m\u001b[33m\"\u001b[39m][\u001b[33m\"\u001b[39m\u001b[33mid\u001b[39m\u001b[33m\"\u001b[39m][\u001b[33m\"\u001b[39m\u001b[33mdetails\u001b[39m\u001b[33m\"\u001b[39m])\n",
      "\u001b[31mTypeError\u001b[39m: 'int' object is not subscriptable"
     ]
    }
   ],
   "source": [
    "#3 Write JSON to File\n",
    "# Save a Python dictionary as JSON in a file using json.dump().\n",
    "\n",
    "import json\n",
    "a={'name': 'Jigar', 'grade': 9.5, 'Branch': 'Computer engineering', 'Role': 'Python data scientist'}\n",
    "\n",
    "# with open(\"data.json\",\"w\") as f:\n",
    "#     json.dump(a,f)\n",
    "\n",
    "#4 Read JSON from File\n",
    "# Load JSON data from a file into a Python dictionary using json.load().\n",
    "# with open(\"data.json\",\"r\") as f:\n",
    "#     b=json.load(f)\n",
    "#     print(b)\n",
    "\n",
    "#5 Pretty Print JSON\n",
    "# Print JSON data in an indented and readable format.\n",
    "# readble_info=json.dumps(a,indent=4)\n",
    "# print(readble_info)\n",
    "\n",
    "#6 Check Data Type after Conversion\n",
    "# Convert a dictionary to JSON and print its data type before and after conversion.\n",
    "\n",
    "# a={'name': 'Jigar', 'grade': 9.5, 'Branch': 'Computer engineering', 'Role': 'Python data scientist'}\n",
    "\n",
    "# b=json.dumps(a)\n",
    "# print(b,type(b))\n",
    "\n",
    "#7 Convert List to JSON\n",
    "# Convert a Python list into a JSON string.\n",
    "\n",
    "# a=[\"hello\",\"world\"]\n",
    "# b=json.dumps(a)\n",
    "# print(b,type(b))\n",
    "\n",
    "#8 Convert JSON Array to Python List\n",
    "# Convert a JSON array into a Python list.\n",
    "\n",
    "# json_array='[10,20,30,40,50]'\n",
    "\n",
    "# b=json.loads(json_array)\n",
    "# print(b,type(b))\n",
    "\n",
    "#9 Write Nested Dictionary to JSON File\n",
    "# Save a nested Python dictionary as JSON.\n",
    "\n",
    "# employees = {\n",
    "#     \"Alice\": {\n",
    "#         \"id\": 101,\n",
    "#         \"details\": {\n",
    "#             \"department\": \"Engineering\",\n",
    "#             \"phone\": \"555-1234\"\n",
    "#         }\n",
    "#     },\n",
    "#     \"Bob\": {\n",
    "#         \"id\": 102,\n",
    "#         \"details\": {\n",
    "#             \"department\": \"Sales\",\n",
    "#             \"phone\": \"555-5678\"\n",
    "#         }\n",
    "#     }\n",
    "# }\n",
    "\n",
    "# with open(\"data.json\",\"w\") as f:\n",
    "#     json.dump(employees,f)\n",
    "\n",
    "\n",
    "#10 Read Nested JSON Data\n",
    "# Load nested JSON data from a file and access a specific nested key.\n",
    "\n",
    "with open(\"data.json\",\"r\") as f:\n",
    "    b=json.load(f)\n",
    "    print(b[\"Alice\"][\"id\"][\"details\"])\n"
   ]
  }
 ],
 "metadata": {
  "kernelspec": {
   "display_name": "Python [conda env:base] *",
   "language": "python",
   "name": "conda-base-py"
  },
  "language_info": {
   "codemirror_mode": {
    "name": "ipython",
    "version": 3
   },
   "file_extension": ".py",
   "mimetype": "text/x-python",
   "name": "python",
   "nbconvert_exporter": "python",
   "pygments_lexer": "ipython3",
   "version": "3.13.5"
  }
 },
 "nbformat": 4,
 "nbformat_minor": 5
}
