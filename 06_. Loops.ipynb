{
 "cells": [
  {
   "cell_type": "code",
   "execution_count": 1,
   "id": "01615142-e5c1-47f7-b273-090e92d0eda4",
   "metadata": {},
   "outputs": [
    {
     "name": "stdin",
     "output_type": "stream",
     "text": [
      "Enter a num: 5\n"
     ]
    },
    {
     "name": "stdout",
     "output_type": "stream",
     "text": [
      "5 x 1 = 5\n",
      "5 x 2 = 10\n",
      "5 x 3 = 15\n",
      "5 x 4 = 20\n",
      "5 x 5 = 25\n",
      "5 x 6 = 30\n",
      "5 x 7 = 35\n",
      "5 x 8 = 40\n",
      "5 x 9 = 45\n",
      "5 x 10 = 50\n"
     ]
    }
   ],
   "source": [
    "#1 Print multiplication table of a number.\n",
    "\n",
    "a=int(input(\"Enter a num:\"))\n",
    "\n",
    "for i in range(1,11):\n",
    "    print(f\"{a} x {i} = {a*i}\")"
   ]
  },
  {
   "cell_type": "code",
   "execution_count": 2,
   "id": "904fdfdd-74f8-4e6e-8cf0-5bb571915aba",
   "metadata": {},
   "outputs": [
    {
     "name": "stdin",
     "output_type": "stream",
     "text": [
      "Enter a num: 5\n"
     ]
    },
    {
     "name": "stdout",
     "output_type": "stream",
     "text": [
      "0 1 1 2 3 5 "
     ]
    }
   ],
   "source": [
    "#2 Print Fibonacci series up to n.\n",
    "\n",
    "a=int(input(\"Enter a num:\"))\n",
    "First,second=0,1\n",
    "\n",
    "while First<=a:\n",
    "    print(First,end=\" \")\n",
    "\n",
    "    First,second=second,First + second"
   ]
  },
  {
   "cell_type": "code",
   "execution_count": 3,
   "id": "e00f9b86-2ac7-49ac-beef-3b2596e47f89",
   "metadata": {},
   "outputs": [
    {
     "name": "stdin",
     "output_type": "stream",
     "text": [
      "Enter a num: 5\n"
     ]
    },
    {
     "name": "stdout",
     "output_type": "stream",
     "text": [
      "5\n"
     ]
    }
   ],
   "source": [
    "#3 Print sum of digits of a number.\n",
    "\n",
    "a=int(input(\"Enter a num:\"))\n",
    "sum=0\n",
    "\n",
    "while a>0:\n",
    "    digit=a%10\n",
    "    sum += digit\n",
    "    a=a//10\n",
    "print(sum)    \n",
    "    "
   ]
  },
  {
   "cell_type": "code",
   "execution_count": 1,
   "id": "a94fc3f5-bc0a-4bf2-8386-1bc1d2aa3b2d",
   "metadata": {},
   "outputs": [
    {
     "name": "stdin",
     "output_type": "stream",
     "text": [
      "Enter a num: 5\n"
     ]
    },
    {
     "name": "stdout",
     "output_type": "stream",
     "text": [
      "The factorial of is : 120\n"
     ]
    }
   ],
   "source": [
    "#### 4 Find factorial using while loop.\n",
    "\n",
    "a=int(input(\"Enter a num:\"))\n",
    "original= a\n",
    "fact=1\n",
    "\n",
    "while a>0:\n",
    "    fact *= a\n",
    "    a -=1\n",
    "    \n",
    "print(f\"The factorial of is : {fact}\")"
   ]
  },
  {
   "cell_type": "code",
   "execution_count": 2,
   "id": "94e56475-9fd2-418b-b0ad-32352ef6359b",
   "metadata": {},
   "outputs": [
    {
     "name": "stdout",
     "output_type": "stream",
     "text": [
      "*\n",
      "**\n",
      "***\n",
      "****\n"
     ]
    }
   ],
   "source": [
    "#5 \n",
    "\"\"\"*\n",
    "**\n",
    "***\n",
    "****\"\"\"\n",
    "\n",
    "for i in range(1,5):\n",
    "    print(\"*\" * i)\n"
   ]
  },
  {
   "cell_type": "code",
   "execution_count": 4,
   "id": "8bab3f2c-f075-4f23-9194-2fd9606e2aa0",
   "metadata": {},
   "outputs": [
    {
     "name": "stdin",
     "output_type": "stream",
     "text": [
      "Enter a num: 12234\n"
     ]
    },
    {
     "name": "stdout",
     "output_type": "stream",
     "text": [
      "43221\n"
     ]
    }
   ],
   "source": [
    "#6 Reverse a number using loop.\n",
    "\n",
    "a=int(input(\"Enter a num:\"))\n",
    "\n",
    "rev=0\n",
    "\n",
    "while a>0:\n",
    "    digit=a%10\n",
    "    rev=(rev *10) + digit\n",
    "    a=a//10\n",
    "print(rev)\n"
   ]
  },
  {
   "cell_type": "code",
   "execution_count": 9,
   "id": "bc2ad4dc-5517-4979-8ad2-1a1bac2a7ac3",
   "metadata": {},
   "outputs": [
    {
     "name": "stdout",
     "output_type": "stream",
     "text": [
      "The prime numbers between 1-101:\n",
      "[2, 3, 5, 7, 11, 13, 17, 19, 23, 29, 31, 37, 41, 43, 47, 53, 59, 61, 67, 71, 73, 79, 83, 89, 97]\n"
     ]
    }
   ],
   "source": [
    "#7 Find prime numbers between 1–100.\n",
    "\n",
    "prime_num=[]\n",
    "\n",
    "for i in range(2,101):\n",
    "    is_prime=True\n",
    "    for j in range(2,i):\n",
    "        if i% j == 0:\n",
    "            is_prime=False\n",
    "            break\n",
    "    if is_prime:\n",
    "         prime_num.append(i)\n",
    "\n",
    "print(\"The prime numbers between 1-101:\")\n",
    "print(prime_num)"
   ]
  },
  {
   "cell_type": "code",
   "execution_count": 12,
   "id": "3b6f9324-8691-44a8-a2d1-1279aa77b95f",
   "metadata": {},
   "outputs": [
    {
     "name": "stdout",
     "output_type": "stream",
     "text": [
      "1\n",
      "2\n",
      "3\n",
      "4\n",
      "5\n",
      "6\n",
      "7\n",
      "8\n",
      "9\n",
      "153\n",
      "370\n",
      "371\n",
      "407\n"
     ]
    }
   ],
   "source": [
    "# 8 Print Armstrong numbers between 1–500.\n",
    "\n",
    "for num in  range(1,501):\n",
    "    #Calculate the num of digts\n",
    "    order=len(str(num))\n",
    "\n",
    "    sum_of_powers=0\n",
    "    temp_num=num\n",
    "\n",
    "    while temp_num >0:\n",
    "        digit=temp_num %10\n",
    "        sum_of_powers += digit ** order\n",
    "        temp_num =temp_num//10\n",
    "\n",
    "    if num == sum_of_powers:\n",
    "        print(num)"
   ]
  },
  {
   "cell_type": "code",
   "execution_count": 14,
   "id": "c0b6801d-9d53-4c3e-9526-e266442ad5b7",
   "metadata": {},
   "outputs": [
    {
     "name": "stdout",
     "output_type": "stream",
     "text": [
      "5\n",
      "6\n"
     ]
    }
   ],
   "source": [
    "#10 Count even/odd numbers in a list.\n",
    "\n",
    "l=[1,2,3,4,5,6,7,8,9,10,11]\n",
    "\n",
    "even_count=0\n",
    "odd_count=0\n",
    "\n",
    "for num in l:\n",
    "    if num%2==0:\n",
    "        even_count +=1\n",
    "    else:\n",
    "        odd_count +=1\n",
    "print(even_count)        \n",
    "print(odd_count)        \n",
    "        "
   ]
  }
 ],
 "metadata": {
  "kernelspec": {
   "display_name": "Python 3 (ipykernel)",
   "language": "python",
   "name": "python3"
  },
  "language_info": {
   "codemirror_mode": {
    "name": "ipython",
    "version": 3
   },
   "file_extension": ".py",
   "mimetype": "text/x-python",
   "name": "python",
   "nbconvert_exporter": "python",
   "pygments_lexer": "ipython3",
   "version": "3.13.5"
  }
 },
 "nbformat": 4,
 "nbformat_minor": 5
}
