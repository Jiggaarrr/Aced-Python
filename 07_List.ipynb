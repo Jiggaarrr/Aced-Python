{
 "cells": [
  {
   "cell_type": "code",
   "execution_count": 3,
   "id": "0c170bcf-26f1-404d-833e-8e2a927cf431",
   "metadata": {},
   "outputs": [
    {
     "name": "stdout",
     "output_type": "stream",
     "text": [
      "10\n",
      "6\n"
     ]
    }
   ],
   "source": [
    "#1 Find max & min in a list without using max()/min().\n",
    "\n",
    "l=[1,2,3,4,5,1354,1234,123,123,12,3,12,1,2,3,4,1,2,3]\n",
    "\n",
    "maximum=l[0]\n",
    "minimum=l[0]\n",
    "\n",
    "for num in l:\n",
    "    if num> maximum:\n",
    "        maximum = num\n",
    "    if num<minimum:\n",
    "        minimum = num\n",
    "print(maximum)\n",
    "print(minimum)\n",
    "    \n",
    "    "
   ]
  },
  {
   "cell_type": "code",
   "execution_count": 4,
   "id": "d1c1914f-0018-46b3-b74e-ab8269b1268a",
   "metadata": {},
   "outputs": [
    {
     "name": "stdout",
     "output_type": "stream",
     "text": [
      "[1, 2, 3, 4, 5, 1354, 12, 1234, 123]\n"
     ]
    }
   ],
   "source": [
    "#2 Remove duplicates from list.\n",
    "\n",
    "l=[1,2,3,4,5,1354,1234,123,123,12,3,12,1,2,3,4,1,2,3]\n",
    "print(list(set(l)))\n"
   ]
  },
  {
   "cell_type": "code",
   "execution_count": 5,
   "id": "5ac6634b-7129-4ddb-84ef-b9599ee0b0ee",
   "metadata": {},
   "outputs": [
    {
     "name": "stdout",
     "output_type": "stream",
     "text": [
      "[1, 1, 1, 3, 3, 4, 5, 9, 32]\n"
     ]
    }
   ],
   "source": [
    "#3 Sort list without using sort().\n",
    "\n",
    "l=[9,1,3,4,1,3,5,32,1]\n",
    "print(sorted(l))"
   ]
  },
  {
   "cell_type": "code",
   "execution_count": 7,
   "id": "4b2d2187-7902-4a77-bd30-7282bc4182de",
   "metadata": {},
   "outputs": [
    {
     "name": "stdout",
     "output_type": "stream",
     "text": [
      "[4, 5, 1, 2, 3]\n"
     ]
    }
   ],
   "source": [
    "#4 Rotate list elements by k.\n",
    "l=[1,2,3,4,5]\n",
    "n=2\n",
    "print(l[-n:] + l[:-n])"
   ]
  },
  {
   "cell_type": "code",
   "execution_count": 9,
   "id": "ed8c31e2-1a02-42f6-9cc2-9c32eb5930aa",
   "metadata": {},
   "outputs": [
    {
     "name": "stdout",
     "output_type": "stream",
     "text": [
      "[1, 1, 2, 2, 3, 3, 4, 4, 5, 5]\n"
     ]
    }
   ],
   "source": [
    "#5 Merge two sorted lists.\n",
    "\n",
    "l=[1,2,3,4,5]\n",
    "l2=[4, 5, 1, 2, 3]\n",
    "\n",
    "print(sorted(l+l2))"
   ]
  },
  {
   "cell_type": "code",
   "execution_count": 14,
   "id": "9b48bd54-5d68-400f-8d78-7d2353e3a2ff",
   "metadata": {},
   "outputs": [
    {
     "name": "stdout",
     "output_type": "stream",
     "text": [
      "[4, 5]\n"
     ]
    }
   ],
   "source": [
    "#6 Find common elements between two lists.\n",
    "\n",
    "l1=[1,2,3,4,5]\n",
    "l2=[5,4,6,7,8]\n",
    "\n",
    "l3=[]\n",
    "\n",
    "# for num in l1:\n",
    "#     for num2 in l2:\n",
    "#         if num == num2:\n",
    "#             l3.append(num)\n",
    "# print(l3 )            \n",
    "\n",
    "for num in l1:\n",
    "    if num in l2:\n",
    "        l3.append(num)\n",
    "print(l3)"
   ]
  },
  {
   "cell_type": "code",
   "execution_count": 16,
   "id": "744106bf-a9d1-4fbb-a540-4f6185dd4695",
   "metadata": {},
   "outputs": [
    {
     "name": "stdout",
     "output_type": "stream",
     "text": [
      "Counter({1: 2, 2: 2, 3: 2, 4: 2, 5: 2})\n"
     ]
    }
   ],
   "source": [
    "#7 Count frequency of elements in list.\n",
    "\n",
    "a=[1, 1, 2, 2, 3, 3, 4, 4, 5, 5]\n",
    "\n",
    "from collections import Counter\n",
    "print(Counter(a))"
   ]
  },
  {
   "cell_type": "code",
   "execution_count": 17,
   "id": "c9e2a38e-c658-4ce3-8008-4291858c6d6b",
   "metadata": {},
   "outputs": [
    {
     "name": "stdout",
     "output_type": "stream",
     "text": [
      "[1, 2, 3, 4, 4, 5]\n"
     ]
    }
   ],
   "source": [
    "#8 Remove all negative numbers from list.\n",
    "\n",
    "a=[-1, 1, -2, 2, -3, 3, 4, 4, -5, 5]\n",
    "l=[]\n",
    "\n",
    "for num in a:\n",
    "    if num>0:\n",
    "        l.append(num)\n",
    "print(l)\n",
    "        \n",
    "\n"
   ]
  },
  {
   "cell_type": "code",
   "execution_count": 18,
   "id": "ada13f5a-1bf5-4e5a-8e50-8ba1bb1e3f42",
   "metadata": {},
   "outputs": [
    {
     "name": "stdout",
     "output_type": "stream",
     "text": [
      "[2, 4, 6, 8, 10]\n",
      "[1, 3, 5, 7, 9]\n"
     ]
    }
   ],
   "source": [
    "#9 Split list into even and odd numbers.\n",
    "\n",
    "a=[1,2, 3, 4, 5, 6, 7, 8, 9, 10]\n",
    "even_list=[]\n",
    "odd_list=[]\n",
    "\n",
    "for num in a:\n",
    "    if num%2 == 0:\n",
    "        even_list.append(num)\n",
    "    else:\n",
    "        odd_list.append(num)\n",
    "print(even_list)\n",
    "print(odd_list)\n"
   ]
  },
  {
   "cell_type": "code",
   "execution_count": null,
   "id": "d4d5f5de-3c81-4a63-97da-ddad5cd9c141",
   "metadata": {},
   "outputs": [],
   "source": [
    "#10 "
   ]
  }
 ],
 "metadata": {
  "kernelspec": {
   "display_name": "Python 3 (ipykernel)",
   "language": "python",
   "name": "python3"
  },
  "language_info": {
   "codemirror_mode": {
    "name": "ipython",
    "version": 3
   },
   "file_extension": ".py",
   "mimetype": "text/x-python",
   "name": "python",
   "nbconvert_exporter": "python",
   "pygments_lexer": "ipython3",
   "version": "3.13.5"
  }
 },
 "nbformat": 4,
 "nbformat_minor": 5
}
