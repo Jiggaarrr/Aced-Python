{
 "cells": [
  {
   "cell_type": "code",
   "execution_count": null,
   "id": "d76d3452-7ca8-4196-a6b5-e188591104cf",
   "metadata": {},
   "outputs": [],
   "source": [
    "#Top 10 lambda function question!"
   ]
  },
  {
   "cell_type": "code",
   "execution_count": 4,
   "id": "437681e5-b73e-4dfd-8050-6e6a980fe613",
   "metadata": {},
   "outputs": [
    {
     "name": "stdin",
     "output_type": "stream",
     "text": [
      "Enter a num: 5\n"
     ]
    },
    {
     "name": "stdout",
     "output_type": "stream",
     "text": [
      "25\n"
     ]
    }
   ],
   "source": [
    "#1 Square a Number\n",
    "# Create a lambda function to square a given number.\n",
    "\n",
    "x=int(input(\"Enter a num:\"))\n",
    "a=lambda x:x*x\n",
    "result=a(x)\n",
    "print(result)\n"
   ]
  },
  {
   "cell_type": "code",
   "execution_count": 9,
   "id": "a09b41f7-00bd-494d-9918-ffa73729abf3",
   "metadata": {},
   "outputs": [
    {
     "name": "stdout",
     "output_type": "stream",
     "text": [
      "15\n"
     ]
    }
   ],
   "source": [
    "#2 Add Two Numbers\n",
    "# Create a lambda function to add two numbers.\n",
    "\n",
    "a=lambda x,y : x + y\n",
    "print(a(5,10))"
   ]
  },
  {
   "cell_type": "code",
   "execution_count": 11,
   "id": "a569b80d-7f19-41bb-b0ee-b806b14f0c00",
   "metadata": {},
   "outputs": [
    {
     "name": "stdin",
     "output_type": "stream",
     "text": [
      "Enter a num: 10\n"
     ]
    },
    {
     "name": "stdout",
     "output_type": "stream",
     "text": [
      "True\n"
     ]
    }
   ],
   "source": [
    "#3 Check Even Number\n",
    "# Use a lambda function to check if a number is even.\n",
    "\n",
    "a=int(input(\"Enter a num:\"))\n",
    "\n",
    "result=lambda x:x%2==0\n",
    "print(result(a))"
   ]
  },
  {
   "cell_type": "code",
   "execution_count": 13,
   "id": "bfb106b2-b80c-47d3-9bed-f1db4453f37c",
   "metadata": {},
   "outputs": [
    {
     "name": "stdin",
     "output_type": "stream",
     "text": [
      "Enter a sentence: hey\n"
     ]
    },
    {
     "name": "stdout",
     "output_type": "stream",
     "text": [
      "<class 'function'>\n",
      "3\n"
     ]
    }
   ],
   "source": [
    "#4 Get Length of String\n",
    "# Create a lambda function to return the length of a string.\n",
    "\n",
    "a=input(\"Enter a sentence:\")\n",
    "result=lambda x:len(x)\n",
    "print(type(result))\n",
    "print(result(a))"
   ]
  },
  {
   "cell_type": "code",
   "execution_count": 15,
   "id": "9ca96048-3336-447e-8481-b5a152e6482d",
   "metadata": {},
   "outputs": [
    {
     "name": "stdout",
     "output_type": "stream",
     "text": [
      "5\n"
     ]
    }
   ],
   "source": [
    "#5 Find Maximum of Two Numbers\n",
    "# Use a lambda to return the larger of two given numbers.\n",
    "\n",
    "l=lambda x,y:x if x>y else y\n",
    "print(l(5,4))"
   ]
  },
  {
   "cell_type": "code",
   "execution_count": 16,
   "id": "b79e64ee-8255-4f52-8d6e-ea5fb77738f8",
   "metadata": {},
   "outputs": [
    {
     "name": "stdout",
     "output_type": "stream",
     "text": [
      "100\n"
     ]
    }
   ],
   "source": [
    "#6 Multiply by 10\n",
    "# Use a lambda to multiply a number by 10.\n",
    "\n",
    "l=lambda x:x*10\n",
    "print(l(10))"
   ]
  },
  {
   "cell_type": "code",
   "execution_count": 17,
   "id": "41cd2d48-cad6-4f67-8720-9a8459f1f4de",
   "metadata": {},
   "outputs": [
    {
     "name": "stdin",
     "output_type": "stream",
     "text": [
      "Enter a sentence: Hello world\n"
     ]
    },
    {
     "name": "stdout",
     "output_type": "stream",
     "text": [
      "dlrow olleH\n"
     ]
    }
   ],
   "source": [
    "#7 Reverse a String\n",
    "# Use a lambda to reverse a given string.\n",
    "\n",
    "a=input(\"Enter a sentence:\")\n",
    "s=lambda x:x[::-1]\n",
    "print(s(a))\n"
   ]
  },
  {
   "cell_type": "code",
   "execution_count": 18,
   "id": "327f54b7-3853-4bea-8550-db49f6aec5fc",
   "metadata": {},
   "outputs": [
    {
     "name": "stdin",
     "output_type": "stream",
     "text": [
      "Enter a sentence: hello world i love python\n"
     ]
    },
    {
     "name": "stdout",
     "output_type": "stream",
     "text": [
      "HELLO WORLD I LOVE PYTHON\n"
     ]
    }
   ],
   "source": [
    "#8 Convert to Uppercase\n",
    "# Use a lambda to convert a string to uppercase.\n",
    "\n",
    "a=input(\"Enter a sentence:\")\n",
    "l=lambda x:x.upper()\n",
    "print(l(a))\n"
   ]
  },
  {
   "cell_type": "code",
   "execution_count": 22,
   "id": "0374f728-2956-4625-b215-3ca8bafccefa",
   "metadata": {},
   "outputs": [
    {
     "name": "stdin",
     "output_type": "stream",
     "text": [
      "Enter a sentence: hello\n"
     ]
    },
    {
     "name": "stdout",
     "output_type": "stream",
     "text": [
      "h\n"
     ]
    }
   ],
   "source": [
    "#9 Get Last Character\n",
    "# Use a lambda to return the last character of a string.\n",
    "\n",
    "a=input(\"Enter a sentence:\")\n",
    "l=lambda x: x[-1]\n",
    "print(l(a))"
   ]
  },
  {
   "cell_type": "code",
   "execution_count": null,
   "id": "8ac7613b-d5f6-4512-9953-1a0777c382af",
   "metadata": {},
   "outputs": [],
   "source": [
    "#10 Absolute Value\n",
    "# Create a lambda function to get the absolute value of a number.\n",
    "\n",
    "absolute_value=lambda num :abs(num)\n",
    "\n",
    "result=absolut"
   ]
  }
 ],
 "metadata": {
  "kernelspec": {
   "display_name": "Python [conda env:base] *",
   "language": "python",
   "name": "conda-base-py"
  },
  "language_info": {
   "codemirror_mode": {
    "name": "ipython",
    "version": 3
   },
   "file_extension": ".py",
   "mimetype": "text/x-python",
   "name": "python",
   "nbconvert_exporter": "python",
   "pygments_lexer": "ipython3",
   "version": "3.13.5"
  }
 },
 "nbformat": 4,
 "nbformat_minor": 5
}
