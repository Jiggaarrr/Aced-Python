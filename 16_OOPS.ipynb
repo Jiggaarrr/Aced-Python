{
 "cells": [
  {
   "cell_type": "code",
   "execution_count": null,
   "id": "c3af838f-df72-42cb-9d66-09d61ddb9e88",
   "metadata": {},
   "outputs": [],
   "source": [
    "#Top 10 Easy level oops questions.."
   ]
  },
  {
   "cell_type": "code",
   "execution_count": 24,
   "id": "be34adbd-d7b9-4972-b667-691f359ea2cc",
   "metadata": {},
   "outputs": [
    {
     "name": "stdout",
     "output_type": "stream",
     "text": [
      "The engine started for Tesla-9910.\n",
      "The engine started for Toyoto-3212.\n"
     ]
    }
   ],
   "source": [
    "#1 and 2 Create a Class & Object\n",
    "# Write a class Car with attributes brand and model. Create two objects and print their details.\n",
    "\n",
    "class Car:\n",
    "    def __init__(self,brand,model):\n",
    "        self.model=model\n",
    "        self.brand=brand\n",
    "\n",
    "    def start_engine(self):\n",
    "         print(f\"The engine started for {self.brand}-{self.model}.\")\n",
    "        \n",
    "\n",
    "\n",
    "#Now its time to creating objects\n",
    "c1=Car(\"Tesla\",9910)\n",
    "c2=Car(\"Toyoto\",3212)\n",
    "\n",
    "#Print the details the car..\n",
    "c1.start_engine()\n",
    "c2.start_engine()\n",
    "\n",
    "         \n"
   ]
  },
  {
   "cell_type": "code",
   "execution_count": 28,
   "id": "d1fd64cd-3937-400f-9e40-004c6377a6d8",
   "metadata": {},
   "outputs": [
    {
     "name": "stdout",
     "output_type": "stream",
     "text": [
      "Name:Rohan and Age:18.\n",
      "Name:shubham and Age:20.\n",
      "Name:Roy and Age:19.\n"
     ]
    }
   ],
   "source": [
    "#2 Level 2: Constructor Magic\n",
    "\n",
    "#3 Use __init__\n",
    "# Create a class Student with attributes name and age using the constructor. Create 3 students and print their names.\n",
    "\n",
    "#4Default Constructor Values\n",
    "# In Student, make age default to 18 if not provided.\n",
    "\n",
    "class Student:\n",
    "    def __init__(self,name,age=18):\n",
    "        self.name=name\n",
    "        self.age=age\n",
    "\n",
    "    def get_details(self):\n",
    "        return f\"Name:{self.name} and Age:{self.age}\"\n",
    "    \n",
    "\n",
    "c1=Student(\"Rohan\",18)\n",
    "c2=Student(\"shubham\",20)\n",
    "c3=Student(\"Roy\",19)\n",
    "\n",
    "print(c1.get_details())\n",
    "print(c2.get_details())\n",
    "print(c3.get_details())\n",
    "    \n",
    "\n",
    "\n"
   ]
  },
  {
   "cell_type": "code",
   "execution_count": 33,
   "id": "66896886-8600-425f-bdeb-058ae68e3c81",
   "metadata": {},
   "outputs": [
    {
     "name": "stdout",
     "output_type": "stream",
     "text": [
      "The Rohan has a bank account in HDFC\n",
      "The Priya has a bank account in HDFC\n"
     ]
    },
    {
     "data": {
      "text/plain": [
       "'The Priya has a bank account in Yess Bank'"
      ]
     },
     "execution_count": 33,
     "metadata": {},
     "output_type": "execute_result"
    }
   ],
   "source": [
    "#Level 3: Instance vs Class Variables\n",
    "\n",
    "#5Class Variable Practice\n",
    "# Create a class BankAccount with a class variable bank_name = \"HDFC\". Show that all objects share the same bank_name.\n",
    "\n",
    "#6Modify Class Variable\n",
    "# Change bank_name from one object and see if other objects are affected.\n",
    "\n",
    "class BankAccount:\n",
    "    bank_name=\"HDFC\"\n",
    "\n",
    "    def __init__(self,name):\n",
    "        self.name=name\n",
    "\n",
    "    def Info(self):\n",
    "        return f\"The {self.name} has a bank account in {self.bank_name}\"\n",
    "\n",
    "c1=BankAccount(\"Rohan\")\n",
    "c2=BankAccount(\"Priya\")\n",
    "\n",
    "print(c1.Info())\n",
    "print(c2.Info())\n",
    "\n",
    "BankAccount.bank_name=\"Yess Bank\"\n",
    "\n",
    "print(c1.Info())\n",
    "print(c2.Info())"
   ]
  },
  {
   "cell_type": "code",
   "execution_count": 47,
   "id": "d8be8ada-123f-4dc6-bd36-1561d373a9dd",
   "metadata": {},
   "outputs": [
    {
     "name": "stdout",
     "output_type": "stream",
     "text": [
      "Your initial salary is: 40000\n",
      "Your updated salary is: 50000\n"
     ]
    }
   ],
   "source": [
    "# Level 4: Encapsulation\n",
    "\n",
    "# Private Variables\n",
    "# Create a class Person with a private variable __salary. Write a method set_salary() to change it and get_salary() to view it.\n",
    "\n",
    "# Protect Data\n",
    "# Make sure __salary cannot be accessed directly from outside the class.\n",
    "\n",
    "\n",
    "class Person:\n",
    "    def __init__(self,salary):\n",
    "        self.__salary=salary\n",
    "\n",
    "    def get_salary(self):\n",
    "        #Method to safely get the salary\n",
    "         return self.__salary\n",
    "\n",
    "\n",
    "    def set_salary(self,new_salary):\n",
    "        #Method to safely change the salary\n",
    "        if new_salary>0:\n",
    "            self.__salary =new_salary\n",
    "        else:\n",
    "            print(\"Salary cannot be nagative\")\n",
    "\n",
    "s1=Person(40000)\n",
    "\n",
    "#We can see the salary using the getter method!\n",
    "print(\"Your initial salary is:\",s1.get_salary())\n",
    "\n",
    "#We can change the salary using setter method!\n",
    "s1.set_salary(50000)\n",
    "print(\"Your updated salary is:\",s1.get_salary())\n",
    "        "
   ]
  },
  {
   "cell_type": "code",
   "execution_count": 52,
   "id": "56589b6c-c5c7-469b-92e7-65e994310ba3",
   "metadata": {},
   "outputs": [
    {
     "name": "stdout",
     "output_type": "stream",
     "text": [
      "Bow bow\n"
     ]
    }
   ],
   "source": [
    "# Level 5: Inheritance Basics\n",
    "\n",
    "# Single Inheritance\n",
    "# Create a base class Animal with a method sound(). Create Dog class that inherits from Animal and overrides sound() to print \"Bark\".\n",
    "\n",
    "# Calling Parent Method\n",
    "# In Dog, call Animal’s sound() before printing \"Bark\".\n",
    "\n",
    "class Animal:\n",
    "    def sound_main(self):\n",
    "        return \"Bow bow\"\n",
    "\n",
    "\n",
    "class Dog(Animal):\n",
    "    def sound(self):\n",
    "        return \"Bhaw bhaw\"\n",
    "\n",
    "d1=Dog()\n",
    "print(d1.sound_main())\n",
    "\n",
    "\n",
    "    "
   ]
  },
  {
   "cell_type": "markdown",
   "id": "8ab4b4d1-6822-429c-b619-cae569fe6fa0",
   "metadata": {},
   "source": [
    "# Top 10 Easy Questions.."
   ]
  },
  {
   "cell_type": "raw",
   "id": "104a565d-f8e8-4549-9f7c-5a224f7d1c5e",
   "metadata": {},
   "source": [
    "#1 what is OOP? Explain its main principles.\n",
    "solution- oops is a object oriented programming were built objects and methods..\n",
    "it stands on four main pillar abstarction,encapsulation,inherutence,polymorphism ....\n",
    "\n",
    "abstarction means to show only neccessary data to user which are required..\n",
    "how can we achive that?we can achieve that kimd of private variable by puting \n",
    "__ (double underscore)\n",
    "\n",
    "encapsultaion means we combine data + methods are called in capsulation...\n",
    "\n",
    "inheritence means the property where class inherited from differnt class are called inheritence\n",
    "there are total three types of inheritence! 1)single level 2)Multi level\n",
    "AND one more level\n",
    "\n",
    "polymorphism is made up of many + forms..\n",
    "\n",
    "this are all about oops...\n"
   ]
  },
  {
   "cell_type": "code",
   "execution_count": 2,
   "id": "72d2bf0b-3449-4a0a-b6b9-7d936f2ac386",
   "metadata": {},
   "outputs": [
    {
     "name": "stdout",
     "output_type": "stream",
     "text": [
      "Bruno\n",
      "wild\n"
     ]
    }
   ],
   "source": [
    "#2 Problem: Create a class named Animal with a constructor (__init__) that accepts name and species as arguments and assigns them to instance attributes.\n",
    "\n",
    "class Animal:\n",
    "    def __init__(self,name,species):\n",
    "        self.name=name\n",
    "        self.species=species\n",
    "\n",
    "a1=Animal(\"Bruno\",\"wild\")\n",
    "print(a1.name)\n",
    "print(a1.species)"
   ]
  },
  {
   "cell_type": "code",
   "execution_count": 4,
   "id": "02794d5a-6915-4f59-aeda-fcaef2db7b00",
   "metadata": {},
   "outputs": [
    {
     "data": {
      "text/plain": [
       "\"The 2500 book named 'GOT' written by Jon snow.\""
      ]
     },
     "execution_count": 4,
     "metadata": {},
     "output_type": "execute_result"
    }
   ],
   "source": [
    "#3 Problem: Write a class Book with title, author, and pages as attributes. Create a method get_info() that returns a string with the book's title and author.\n",
    "\n",
    "class Book:\n",
    "    def __init__(self,title,author,pages):\n",
    "        self.title=title\n",
    "        self.author=author\n",
    "        self.pages=pages\n",
    "\n",
    "    def get_info(self):\n",
    "        return f\"The {self.pages} book named '{self.title}' written by {self.author}.\"\n",
    "\n",
    "b1=Book(\"GOT\",\"Jon snow\",2500)\n",
    "b1.get_info()\n",
    "        \n"
   ]
  },
  {
   "cell_type": "code",
   "execution_count": 6,
   "id": "54d06818-5cc8-4839-9299-6a31d67de8b7",
   "metadata": {},
   "outputs": [
    {
     "data": {
      "text/plain": [
       "'The area of circle is: 1962.5'"
      ]
     },
     "execution_count": 6,
     "metadata": {},
     "output_type": "execute_result"
    }
   ],
   "source": [
    "#4 Problem: Write a class Circle that takes radius as an attribute. Add a method calculate_area() that computes and returns the area of the circle.\n",
    "\n",
    "class Circle:\n",
    "    def __init__(self,radius):\n",
    "        self.radius=radius\n",
    "\n",
    "    def calc_area(self):\n",
    "        return f\"The area of circle is: {3.14 * self.radius ** 2}\"\n",
    "\n",
    "c1=Circle(25)\n",
    "c1.calc_area()\n",
    "         "
   ]
  },
  {
   "cell_type": "code",
   "execution_count": 7,
   "id": "d210da6e-3e5b-4c97-a091-e6651c25d48a",
   "metadata": {},
   "outputs": [
    {
     "data": {
      "text/plain": [
       "121"
      ]
     },
     "execution_count": 7,
     "metadata": {},
     "output_type": "execute_result"
    }
   ],
   "source": [
    "#5 Problem: Create a class Student with a private attribute __student_id. Write a method get_id() that allows you to safely view the ID from outside the class.\n",
    "\n",
    "class Student:\n",
    "    def __init__(self,student_id):\n",
    "        self.__student_id=student_id\n",
    "\n",
    "    def get_id(self):\n",
    "        return self.__student_id\n",
    "\n",
    "s1=Student(121)\n",
    "s1.get_id()"
   ]
  },
  {
   "cell_type": "code",
   "execution_count": 10,
   "id": "88b312e1-9a35-4f9e-a817-5c9341c3399f",
   "metadata": {},
   "outputs": [
    {
     "data": {
      "text/plain": [
       "6000"
      ]
     },
     "execution_count": 10,
     "metadata": {},
     "output_type": "execute_result"
    }
   ],
   "source": [
    "#6 Problem: Create a class Product with a private attribute __price. Write two methods: get_price() to view the price and set_price() to change it. Add a check\n",
    "\n",
    "class Product:\n",
    "    def __init__(self,price):\n",
    "        self.__price=price\n",
    "\n",
    "    def get_price(self):\n",
    "        return self.__price\n",
    "\n",
    "    def set_price(self,add):\n",
    "        if add>0:\n",
    "            self.__price = add\n",
    "        else:\n",
    "            print(\"No negative add\")\n",
    "\n",
    "s1=Product(5000)\n",
    "s1.get_price()\n",
    "\n",
    "s1.set_price(6000)\n",
    "s1.get_price()"
   ]
  },
  {
   "cell_type": "code",
   "execution_count": 27,
   "id": "c97656b9-155a-4ad0-ab89-011b81452295",
   "metadata": {},
   "outputs": [
    {
     "data": {
      "text/plain": [
       "'Tesla'"
      ]
     },
     "execution_count": 27,
     "metadata": {},
     "output_type": "execute_result"
    }
   ],
   "source": [
    "#7 Problem: Create a Vehicle class with a make and model. Then, create a Car class that inherits from Vehicle. The Car class should have an additional attribute number_of_doors.\n",
    "\n",
    "class Vehicle:\n",
    "    def __init__(self,make,model):\n",
    "        self.make=make\n",
    "        self.model=model\n",
    "\n",
    "class Car(Vehicle):\n",
    "    def __init__(self,make,model,no_of_doors):\n",
    "        super().__init__(make,model)\n",
    "        self.no_of_doors=no_of_doors\n",
    "\n",
    "c1=Car(\"Tesla\",81082,4)\n",
    "c1.make\n",
    "print(f\"Make of:{c1.make}\")\n",
    "print(f\"model of:{c1.model}\")\n",
    "print(f\"No of doors have :{c1.no_of_doors}\")\n"
   ]
  },
  {
   "cell_type": "code",
   "execution_count": 30,
   "id": "ee890dd8-4624-461b-8fa5-c83398745b3b",
   "metadata": {},
   "outputs": [
    {
     "data": {
      "text/plain": [
       "'bRUNO the wILD has fetched the ball'"
      ]
     },
     "execution_count": 30,
     "metadata": {},
     "output_type": "execute_result"
    }
   ],
   "source": [
    "#8 Problem: Create a Dog class with a name and a breed. Then, create a GoldenRetriever class that inherits from Dog. The GoldenRetriever class should have its own method, fetch_ball(), that prints a message.\n",
    "\n",
    "class Dog:\n",
    "    def __init__(self,name,breed):\n",
    "        self.name=name\n",
    "        self.breed=breed\n",
    "\n",
    "class GoldenRetreiver(Dog):\n",
    "    def __init__(self,name,breed):\n",
    "        super().__init__(name,breed)\n",
    "\n",
    "    def fetch_ball(self):\n",
    "        return f\"{self.name} the {self.breed} has fetched the ball\"\n",
    "\n",
    "c1=GoldenRetreiver(\"bRUNO\",\"wILD\")\n",
    "c1.fetch_ball()\n",
    "\n",
    "        \n"
   ]
  },
  {
   "cell_type": "code",
   "execution_count": 32,
   "id": "8559ec00-6966-4a8d-a398-a934b89fcec5",
   "metadata": {},
   "outputs": [
    {
     "name": "stdout",
     "output_type": "stream",
     "text": [
      "The perimeter of a circle is:31.40\n"
     ]
    }
   ],
   "source": [
    "#9 Problem: Create a base class Shape. Then, create a Circle class that inherits from Shape and has a radius. The Circle class should have a method get_perimeter() that returns the perimeter of the circle.\n",
    "\n",
    "import math\n",
    "\n",
    "class Shape:\n",
    "    #This class is serves as a base for other shape\n",
    "    #It doesnr need any specific attribute for this problem..\n",
    "    #But it is a good practise to have a foundation\n",
    "    pass\n",
    "\n",
    "class Circle(Shape):\n",
    "    def __init__(self,radius):\n",
    "        self.radius=radius\n",
    "\n",
    "    def get_perimeter(self):\n",
    "        return 2*3.14 *self.radius\n",
    "\n",
    "circle1=Circle(5)\n",
    "\n",
    "perimeter=circle1.get_perimeter()\n",
    "print(f\"The perimeter of a circle is:{perimeter:.2f}\")"
   ]
  },
  {
   "cell_type": "code",
   "execution_count": 35,
   "id": "b859dc05-c88f-4653-815f-e5625938a48e",
   "metadata": {},
   "outputs": [
    {
     "name": "stdout",
     "output_type": "stream",
     "text": [
      "Student name:John cena,Id:24\n"
     ]
    }
   ],
   "source": [
    "#10 Problem: Take the Student class from before. Add a special method __str__ to it that returns a human-readable string representation of the student's name and ID.\n",
    "\n",
    "class Student:\n",
    "    def __init__(self,name,student_id):\n",
    "        self.name=name\n",
    "        self.student_id=student_id\n",
    "\n",
    "    def __str__(self):\n",
    "        return f\"Student name:{self.name},Id:{self.student_id}\"\n",
    "\n",
    "c1=Student(\"John cena\",\"24\")\n",
    "print(c1)"
   ]
  },
  {
   "cell_type": "code",
   "execution_count": 38,
   "id": "adb74a87-9dfe-4325-b0a3-bc741529ac8a",
   "metadata": {},
   "outputs": [
    {
     "name": "stdout",
     "output_type": "stream",
     "text": [
      "<__main__.Point object at 0x000001A2D01A1550>\n"
     ]
    }
   ],
   "source": [
    "#11 Problem: Create a class Point that has an x and y coordinate. Add a special method __add__ to this class so that you can add two Point objects together. The result should be a new Point object with the summed coordinates.\n",
    "\n",
    "class Point:\n",
    "    def __init__(self,x,y):\n",
    "        self.x=x\n",
    "        self.y=y\n",
    "\n",
    "    def __add__(self,other):\n",
    "        new_x=self.x +other.x\n",
    "        new_y=self.y+other.y\n",
    "        return Point(new_x,new_y)\n",
    "\n",
    "    def __str__(self):\n",
    "        return f\"Point(x={self.x}, y={self.y})\"\n",
    "        \n",
    "p1=Point(5,3)\n",
    "p2=Point(2,4)\n",
    "\n",
    "p3=\n",
    "print(p1)\n",
    "        "
   ]
  }
 ],
 "metadata": {
  "kernelspec": {
   "display_name": "Python [conda env:base] *",
   "language": "python",
   "name": "conda-base-py"
  },
  "language_info": {
   "codemirror_mode": {
    "name": "ipython",
    "version": 3
   },
   "file_extension": ".py",
   "mimetype": "text/x-python",
   "name": "python",
   "nbconvert_exporter": "python",
   "pygments_lexer": "ipython3",
   "version": "3.13.5"
  }
 },
 "nbformat": 4,
 "nbformat_minor": 5
}
